{
 "cells": [
  {
   "cell_type": "code",
   "execution_count": 2,
   "metadata": {},
   "outputs": [],
   "source": [
    "import pandas as pd\n",
    "import os\n",
    "import matplotlib.pyplot as plt\n",
    "import re"
   ]
  },
  {
   "cell_type": "markdown",
   "metadata": {},
   "source": [
    "### Convert YelpZip txt files into csv"
   ]
  },
  {
   "cell_type": "code",
   "execution_count": 3,
   "metadata": {},
   "outputs": [],
   "source": [
    "os.chdir('/Users/john/Developer/CS175/CS175Project')"
   ]
  },
  {
   "cell_type": "code",
   "execution_count": 4,
   "metadata": {},
   "outputs": [],
   "source": [
    "reviewTextFile = 'reviewContent.txt'\n",
    "outcomeAndRating = 'metadata.txt'\n",
    "\n",
    "yelpZipDir = os.path.abspath('./YelpZip')\n",
    "cwd = os.getcwd()\n",
    "os.chdir(yelpZipDir)\n",
    "\n",
    "reviews, rating, real = [], [], []\n",
    "ratingDist = {1:0, 2:0, 3:0, 4:0, 5:0}\n",
    "generationDist = {0:0, 1:0}\n",
    "with open(reviewTextFile, encoding=\"utf8\") as f:\n",
    "    for line in f:\n",
    "        parts = line.rstrip('\\n').split('\\t')\n",
    "        id = int(parts[0])-5044\n",
    "        review = parts[-1].replace('\\n', '')\n",
    "        review = review.replace('\\u200c', '')\n",
    "        review = re.sub(r'[^A-Za-z0-9 ]+', '', review)\n",
    "        reviews.append(review)\n",
    "\n",
    "with open(outcomeAndRating, encoding=\"utf8\") as f:\n",
    "    i = 0\n",
    "    for line in f:\n",
    "        parts = line.rstrip('\\n').split('\\t')\n",
    "        id = int(parts[0])-5044\n",
    "        stars = parts[2]\n",
    "        fakeOrNot = parts[3]\n",
    "        rating.append(int(stars[0])) \n",
    "        real.append(0 if int(fakeOrNot) == -1 else 1)\n",
    "        ratingDist[int(stars[0])]+=1\n",
    "        generationDist[0 if int(fakeOrNot) == -1 else 1]+=1\n",
    "        i+=1\n",
    "os.chdir(cwd)\n",
    "      \n",
    "df = pd.DataFrame(data={\"Review\":reviews, \"Generated\": real})\n",
    "\n",
    "df.to_csv(os.getcwd()+'/data/yelpZip.csv', index=False)"
   ]
  },
  {
   "cell_type": "markdown",
   "metadata": {},
   "source": [
    "### Data About YelpZip Dataset"
   ]
  },
  {
   "cell_type": "code",
   "execution_count": null,
   "metadata": {},
   "outputs": [
    {
     "name": "stdout",
     "output_type": "stream",
     "text": [
      "Rating Distribution\n"
     ]
    },
    {
     "data": {
      "image/png": "[encoded data removed]",
      "text/plain": [
       "<Figure size 432x288 with 1 Axes>"
      ]
     },
     "metadata": {
      "needs_background": "light"
     },
     "output_type": "display_data"
    },
    {
     "name": "stdout",
     "output_type": "stream",
     "text": [
      "There were 35600 reviews with 1 stars. This makes up 5.849509857081357% of the reviews\n",
      "There were 42985 reviews with 2 stars. This makes up 7.062954528276465% of the reviews\n",
      "There were 83139 reviews with 3 stars. This makes up 13.660741573255253% of the reviews\n",
      "There were 217465 reviews with 4 stars. This makes up 35.7321253109606% of the reviews\n",
      "There were 229409 reviews with 5 stars. This makes up 37.69466873042632% of the reviews\n"
     ]
    }
   ],
   "source": [
    "print(\"Rating Distribution\")\n",
    "\n",
    "plt.bar(ratingDist.keys(), ratingDist.values(), color='b')\n",
    "plt.show()\n",
    "for key in ratingDist.keys():\n",
    "    print(\"There were\", ratingDist[key], \"reviews with\", key,\"stars. This makes up\", str(ratingDist[key]/len(reviews)*100) + \"% of the reviews\")"
   ]
  },
  {
   "cell_type": "code",
   "execution_count": 16,
   "metadata": {},
   "outputs": [
    {
     "name": "stdout",
     "output_type": "stream",
     "text": [
      "Generation Distribution\n"
     ]
    },
    {
     "data": {
      "image/png": "[encoded data removed]",
      "text/plain": [
       "<Figure size 432x288 with 1 Axes>"
      ]
     },
     "metadata": {
      "needs_background": "light"
     },
     "output_type": "display_data"
    },
    {
     "name": "stdout",
     "output_type": "stream",
     "text": [
      "There were 80466 reviews that were flagged as spam. This makes up 13.22153539775024% of the reviews\n",
      "There were 528132 reviews that were not flagged as spam. This makes up 86.77846460224976% of the reviews\n"
     ]
    }
   ],
   "source": [
    "print(\"Generation Distribution\")\n",
    "\n",
    "plt.bar(generationDist.keys(), generationDist.values(), color='b')\n",
    "plt.show()\n",
    "\n",
    "print(\"There were\", generationDist[0], \"reviews that were flagged as spam. This makes up\", str(generationDist[0]/len(reviews)*100) + \"% of the reviews\")\n",
    "print(\"There were\", generationDist[1], \"reviews that were not flagged as spam. This makes up\", str(generationDist[1]/len(reviews)*100) + \"% of the reviews\")"
   ]
  },
  {
   "cell_type": "markdown",
   "metadata": {},
   "source": [
    "### Convert OSF Fake Review Dataset to Standard Form"
   ]
  },
  {
   "cell_type": "code",
   "execution_count": 5,
   "metadata": {},
   "outputs": [
    {
     "name": "stdout",
     "output_type": "stream",
     "text": [
      "['Review', 'Generated']\n"
     ]
    }
   ],
   "source": [
    "conversion = {\"CG\":0, \"OR\": 1}\n",
    "\n",
    "osfDir = os.path.abspath('./OSF')\n",
    "os.chdir(osfDir)\n",
    "\n",
    "df = pd.read_csv(\"osfFakeReviewDataset.csv\")\n",
    "df.drop(columns=[\"category\",\"rating\"], inplace=True)\n",
    "cols = df.columns.to_list()\n",
    "df = df[cols[::-1]]\n",
    "df.rename(columns={'text_':\"Review\",'label':\"Generated\"}, inplace=True)\n",
    "print(df.columns.to_list())\n",
    "\n",
    "ratingDist = {1:0, 2:0, 3:0, 4:0, 5:0}\n",
    "generationDist = {0:0, 1:0}\n",
    "l = 0\n",
    "for i, row in df.iterrows():\n",
    "    df.at[i,'Generated'] = conversion[df.at[i,'Generated']]\n",
    "    review = df.at[i, \"Review\"].replace('\\n', '')\n",
    "    review = review.replace('\\u200c', '')\n",
    "    review = re.sub(r'[^A-Za-z0-9 ]+', '', review)\n",
    "    df.at[i,\"Review\"] = review\n",
    "    #ratingDist[df.at[i,'Rating']] += 1\n",
    "    generationDist[df.at[i,'Generated']] += 1\n",
    "    l+=1\n",
    "os.chdir(cwd)\n",
    "df.to_csv(os.getcwd()+'/data/OSF.csv', index=False)"
   ]
  },
  {
   "cell_type": "code",
   "execution_count": 27,
   "metadata": {},
   "outputs": [],
   "source": [
    "os.chdir(cwd)"
   ]
  },
  {
   "cell_type": "code",
   "execution_count": 47,
   "metadata": {},
   "outputs": [
    {
     "name": "stdout",
     "output_type": "stream",
     "text": [
      "Generation Distribution\n"
     ]
    },
    {
     "data": {
      "image/png": "[encoded data removed]",
      "text/plain": [
       "<Figure size 432x288 with 1 Axes>"
      ]
     },
     "metadata": {
      "needs_background": "light"
     },
     "output_type": "display_data"
    },
    {
     "name": "stdout",
     "output_type": "stream",
     "text": [
      "There were 20216 reviews that were flagged as spam. This makes up 50.0% of the reviews\n",
      "There were 20216 reviews that were not flagged as spam. This makes up 50.0% of the reviews\n"
     ]
    }
   ],
   "source": [
    "print(\"Generation Distribution\")\n",
    "\n",
    "plt.bar(generationDist.keys(), generationDist.values(), color='b')\n",
    "plt.show()\n",
    "\n",
    "print(\"There were\", generationDist[0], \"reviews that were flagged as spam. This makes up\", str(generationDist[0]/l*100) + \"% of the reviews\")\n",
    "print(\"There were\", generationDist[1], \"reviews that were not flagged as spam. This makes up\", str(generationDist[1]/l*100) + \"% of the reviews\")"
   ]
  },
  {
   "cell_type": "markdown",
   "metadata": {},
   "source": [
    "### Combine DataSets"
   ]
  },
  {
   "cell_type": "code",
   "execution_count": 16,
   "metadata": {},
   "outputs": [],
   "source": [
    "dataDir = os.path.abspath(\"./data\")\n",
    "cwd = os.getcwd()\n",
    "\n",
    "os.chdir(dataDir)\n",
    "osfDF = pd.read_csv(os.getcwd() + \"/OSF.csv\")\n",
    "yelpZipDF = pd.read_csv(os.getcwd() + \"/yelpZip.csv\")\n",
    "\n",
    "comb = pd.concat([osfDF, yelpZipDF], ignore_index=True)\n",
    "comb.to_csv(os.getcwd()+\"/combinedCSV.csv\", index = False)\n",
    "os.chdir(cwd)"
   ]
  },
  {
   "cell_type": "markdown",
   "metadata": {},
   "source": [
    "### Combined Dataset"
   ]
  },
  {
   "cell_type": "code",
   "execution_count": 8,
   "metadata": {},
   "outputs": [],
   "source": [
    "from sklearn.model_selection import train_test_split\n",
    "\n",
    "train_size = 0.6\n",
    "\n",
    "X = comb.drop(columns=['Generated']).copy()\n",
    "y = comb['Generated']\n",
    "\n",
    "X_train, X_rem, y_train, y_rem = train_test_split(X,y, train_size=train_size)\n",
    "\n",
    "test_size = 0.5\n",
    "X_valid, X_test, y_valid, y_test = train_test_split(X_rem,y_rem, test_size=test_size)\n",
    "\n",
    "train = pd.concat([X_train, y_train], axis = 1)\n",
    "valid = pd.concat([X_test, y_test], axis = 1)\n",
    "test = pd.concat([X_valid, y_valid], axis = 1)\n",
    "\n",
    "try:\n",
    "    train.to_csv(os.getcwd()+\"/partitions/train.csv\", index = False)\n",
    "    valid.to_csv(os.getcwd()+\"/partitions/valid.csv\", index = False)\n",
    "    test.to_csv(os.getcwd()+\"/partitions/test.csv\", index = False)\n",
    "except:\n",
    "    pass"
   ]
  },
  {
   "cell_type": "code",
   "execution_count": 9,
   "metadata": {},
   "outputs": [
    {
     "data": {
      "text/plain": [
       "1    548348\n",
       "0    100682\n",
       "Name: Generated, dtype: int64"
      ]
     },
     "execution_count": 9,
     "metadata": {},
     "output_type": "execute_result"
    }
   ],
   "source": [
    "y.value_counts()"
   ]
  },
  {
   "cell_type": "markdown",
   "metadata": {},
   "source": [
    "### Oversampled Dataset"
   ]
  },
  {
   "cell_type": "code",
   "execution_count": 56,
   "metadata": {},
   "outputs": [],
   "source": [
    "from sklearn.model_selection import train_test_split\n",
    "from imblearn.over_sampling import RandomOverSampler\n",
    "\n",
    "ros = RandomOverSampler(random_state=0)\n",
    "ros.fit(X_train, y_train)\n",
    "X_train_resampled, y_train_resampled = ros.fit_resample(X_train, y_train)\n",
    "ros = RandomOverSampler(random_state=0)\n",
    "ros.fit(X_valid, y_valid)\n",
    "X_valid_resampled, y_valid_resampled = ros.fit_resample(X_valid, y_valid)\n",
    "\n",
    "train = pd.concat([X_train_resampled, y_train_resampled], axis = 1)\n",
    "valid = pd.concat([X_test, y_test], axis = 1)\n",
    "test = pd.concat([X_valid_resampled, y_valid_resampled], axis = 1)\n",
    "\n",
    "try:\n",
    "    train.to_csv(os.getcwd()+\"/partitions/oversampledTrain.csv\", index = False)\n",
    "    valid.to_csv(os.getcwd()+\"/partitions/oversampledValid.csv\", index = False)\n",
    "    test.to_csv(os.getcwd()+\"/partitions/oversampledTest.csv\", index = False)\n",
    "except:\n",
    "    pass"
   ]
  },
  {
   "cell_type": "code",
   "execution_count": 57,
   "metadata": {},
   "outputs": [
    {
     "data": {
      "text/plain": [
       "1    329094\n",
       "0    329094\n",
       "Name: Generated, dtype: int64"
      ]
     },
     "execution_count": 57,
     "metadata": {},
     "output_type": "execute_result"
    }
   ],
   "source": [
    "y_train_resampled.value_counts()"
   ]
  },
  {
   "cell_type": "markdown",
   "metadata": {},
   "source": [
    "### Undersampled Dataset"
   ]
  },
  {
   "cell_type": "code",
   "execution_count": 58,
   "metadata": {},
   "outputs": [],
   "source": [
    "from sklearn.model_selection import train_test_split\n",
    "from imblearn.under_sampling import RandomUnderSampler\n",
    "\n",
    "ros = RandomUnderSampler(random_state=0)\n",
    "ros.fit(X_train, y_train)\n",
    "X_train_resampled, y_train_resampled = ros.fit_resample(X_train, y_train)\n",
    "ros = RandomUnderSampler(random_state=0)\n",
    "ros.fit(X_valid, y_valid)\n",
    "X_valid_resampled, y_valid_resampled = ros.fit_resample(X_valid, y_valid)\n",
    "\n",
    "train = pd.concat([X_train_resampled, y_train_resampled], axis = 1)\n",
    "valid = pd.concat([X_test, y_test], axis = 1)\n",
    "test = pd.concat([X_valid_resampled, y_valid_resampled], axis = 1)\n",
    "\n",
    "\n",
    "try:\n",
    "    train.to_csv(os.getcwd()+\"/partitions/undersampledTrain.csv\", index = False)\n",
    "    valid.to_csv(os.getcwd()+\"/partitions/undersampledValid.csv\", index = False)\n",
    "    test.to_csv(os.getcwd()+\"/partitions/undersampledTest.csv\", index = False)\n",
    "except:\n",
    "    pass"
   ]
  },
  {
   "cell_type": "code",
   "execution_count": 59,
   "metadata": {},
   "outputs": [
    {
     "data": {
      "text/plain": [
       "0    60324\n",
       "1    60324\n",
       "Name: Generated, dtype: int64"
      ]
     },
     "execution_count": 59,
     "metadata": {},
     "output_type": "execute_result"
    }
   ],
   "source": [
    "y_train_resampled.value_counts()"
   ]
  },
  {
   "cell_type": "markdown",
   "metadata": {},
   "source": [
    "### Small Datasets"
   ]
  },
  {
   "cell_type": "code",
   "execution_count": 34,
   "metadata": {},
   "outputs": [
    {
     "name": "stdout",
     "output_type": "stream",
     "text": [
      "1    333\n",
      "0     70\n",
      "Name: Generated, dtype: int64\n"
     ]
    }
   ],
   "source": [
    "from sklearn.model_selection import train_test_split\n",
    "X = comb.drop(columns=['Generated']).copy()\n",
    "y = comb['Generated']\n",
    "\n",
    "train_size = 0.99938\n",
    "X_l, X_s, y_l, y_s = train_test_split(X, y, train_size=train_size)\n",
    "\n",
    "smallSet = pd.concat([X_s, y_s], axis = 1)\n",
    "print(y_s.value_counts())\n",
    "try:\n",
    "    smallSet.to_csv(os.getcwd()+\"/partitions/smallCombinedTest.csv\", index = False)\n",
    "except:\n",
    "    pass"
   ]
  },
  {
   "cell_type": "code",
   "execution_count": 30,
   "metadata": {},
   "outputs": [
    {
     "name": "stdout",
     "output_type": "stream",
     "text": [
      "1    209\n",
      "0    196\n",
      "Name: Generated, dtype: int64\n"
     ]
    }
   ],
   "source": [
    "X = osfDF.drop(columns=['Generated']).copy()\n",
    "y = osfDF['Generated']\n",
    "train_size = 0.99\n",
    "X_l, X_s, y_l, y_s = train_test_split(X, y, train_size=train_size)\n",
    "\n",
    "smallSet = pd.concat([X_s, y_s], axis = 1)\n",
    "print(y_s.value_counts())\n",
    "try:\n",
    "    smallSet.to_csv(os.getcwd() + \"/partitions/smallOSFTest.csv\", index=False)\n",
    "except:\n",
    "    pass"
   ]
  },
  {
   "cell_type": "markdown",
   "metadata": {},
   "source": [
    "### RNN train and test"
   ]
  },
  {
   "cell_type": "code",
   "execution_count": 1,
   "metadata": {},
   "outputs": [],
   "source": [
    "\t# train_charRNN(20000, 0.01)\n",
    "\t# predict(\"Hanzawa\")\n",
    "\t# predict(\"Jackson\")\n"
   ]
  },
  {
   "cell_type": "markdown",
   "metadata": {},
   "source": [
    "### Accuracy visualization"
   ]
  },
  {
   "cell_type": "code",
   "execution_count": 13,
   "metadata": {},
   "outputs": [
    {
     "name": "stderr",
     "output_type": "stream",
     "text": [
      "C:\\Users\\trung\\AppData\\Local\\Temp/ipykernel_16476/2606101778.py:17: UserWarning: FixedFormatter should only be used together with FixedLocator\n",
      "  ax.set_xticklabels(['']+numNodes)\n",
      "C:\\Users\\trung\\AppData\\Local\\Temp/ipykernel_16476/2606101778.py:18: UserWarning: FixedFormatter should only be used together with FixedLocator\n",
      "  ax.set_yticklabels(['']+hidLayers)\n"
     ]
    },
    {
     "data": {
      "image/png": "[encoded data removed]",
      "text/plain": [
       "<Figure size 576x360 with 2 Axes>"
      ]
     },
     "metadata": {
      "needs_background": "light"
     },
     "output_type": "display_data"
    },
    {
     "name": "stderr",
     "output_type": "stream",
     "text": [
      "C:\\Users\\trung\\AppData\\Local\\Temp/ipykernel_16476/2606101778.py:27: UserWarning: FixedFormatter should only be used together with FixedLocator\n",
      "  ax.set_xticklabels(['']+numNodes)\n",
      "C:\\Users\\trung\\AppData\\Local\\Temp/ipykernel_16476/2606101778.py:28: UserWarning: FixedFormatter should only be used together with FixedLocator\n",
      "  ax.set_yticklabels(['']+hidLayers)\n"
     ]
    },
    {
     "data": {
      "image/png": "[encoded data removed]",
      "text/plain": [
       "<Figure size 576x360 with 2 Axes>"
      ]
     },
     "metadata": {
      "needs_background": "light"
     },
     "output_type": "display_data"
    }
   ],
   "source": [
    "hidLayers=[1,2,4,6,8,10]\n",
    "numNodes=[5,10,25,50,100,150]\n",
    "trAcc = [[0]*len(hidLayers)]*len(numNodes)\n",
    "vaAcc = [[0]*len(hidLayers)]*len(numNodes)\n",
    "\n",
    "for i,k in enumerate(hidLayers):\n",
    "    for j,a in enumerate(numNodes):\n",
    "        #clf = MLPClassifier(solver='sgd', alpha=1e-5,hidden_layer_sizes=tuple([a]*k), random_state=1)\n",
    "        #clf.fit(X_train,Y_train)\n",
    "        #trAcc[i][j] = accuracy_score(Y_train, clf.predict(X_train))\n",
    "        #vaAcc[i][j] = accuracy_score(Y_test, clf.predict(X_test))\n",
    "        pass\n",
    "\n",
    "f, ax = plt.subplots(1, 1, figsize=(8, 5))\n",
    "cax = ax.matshow(trAcc, interpolation='nearest')\n",
    "f.colorbar(cax)\n",
    "ax.set_xticklabels(['']+numNodes)\n",
    "ax.set_yticklabels(['']+hidLayers)\n",
    "plt.title('Neural network training')\n",
    "plt.xlabel('numNodes')\n",
    "plt.ylabel('numLayers')\n",
    "plt.show()\n",
    "\n",
    "f, ax = plt.subplots(1, 1, figsize=(8, 5))\n",
    "cax = ax.matshow(vaAcc, interpolation='nearest')\n",
    "f.colorbar(cax)\n",
    "ax.set_xticklabels(['']+numNodes)\n",
    "ax.set_yticklabels(['']+hidLayers)\n",
    "plt.title('Neural network validation')\n",
    "plt.xlabel('numNodes')\n",
    "plt.ylabel('numLayers')\n",
    "plt.show()"
   ]
  },
  {
   "cell_type": "code",
   "execution_count": null,
   "metadata": {},
   "outputs": [],
   "source": []
  }
 ],
 "metadata": {
  "kernelspec": {
   "display_name": "Python 3.10.0 64-bit",
   "language": "python",
   "name": "python3"
  },
  "language_info": {
   "codemirror_mode": {
    "name": "ipython",
    "version": 3
   },
   "file_extension": ".py",
   "mimetype": "text/x-python",
   "name": "python",
   "nbconvert_exporter": "python",
   "pygments_lexer": "ipython3",
   "version": "3.10.0"
  },
  "vscode": {
   "interpreter": {
    "hash": "aee8b7b246df8f9039afb4144a1f6fd8d2ca17a180786b69acc140d282b71a49"
   }
  }
 },
 "nbformat": 4,
 "nbformat_minor": 2
}
