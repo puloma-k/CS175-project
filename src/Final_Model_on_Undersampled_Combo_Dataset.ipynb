{
 "cells": [
  {
   "cell_type": "code",
   "execution_count": 1,
   "metadata": {
    "id": "CczwVPZomxq1"
   },
   "outputs": [
    {
     "name": "stderr",
     "output_type": "stream",
     "text": [
      "C:\\Users\\John\\AppData\\Local\\Packages\\PythonSoftwareFoundation.Python.3.10_qbz5n2kfra8p0\\LocalCache\\local-packages\\Python310\\site-packages\\tqdm\\auto.py:22: TqdmWarning: IProgress not found. Please update jupyter and ipywidgets. See https://ipywidgets.readthedocs.io/en/stable/user_install.html\n",
      "  from .autonotebook import tqdm as notebook_tqdm\n"
     ]
    }
   ],
   "source": [
    "import re\n",
    "import pandas as df\n",
    "import numpy as np\n",
    "import torch\n",
    "import torch.nn as nn\n",
    "from matplotlib import pyplot as plt\n",
    "from sklearn.metrics import confusion_matrix, ConfusionMatrixDisplay"
   ]
  },
  {
   "cell_type": "markdown",
   "metadata": {
    "id": "NuLI0Z0fwqQj"
   },
   "source": [
    "### Import Split Data"
   ]
  },
  {
   "cell_type": "code",
   "execution_count": 2,
   "metadata": {
    "id": "kBzY7xh2hIwZ"
   },
   "outputs": [],
   "source": [
    "train = df.read_csv('partitions/undersampledTrain.csv')\n",
    "valid = df.read_csv('partitions/undersampledValid.csv')\n",
    "test = df.read_csv('partitions/undersampledTest.csv')\n",
    "\n",
    "Xtrain = train.drop(columns=\"Generated\")\n",
    "ytrain = train.drop(columns=\"Review\")\n",
    "Xvalid = valid.drop(columns=\"Generated\")\n",
    "yvalid = valid.drop(columns=\"Review\")\n",
    "Xtest = test.drop(columns=\"Generated\")\n",
    "ytest = test.drop(columns=\"Review\")"
   ]
  },
  {
   "cell_type": "markdown",
   "metadata": {
    "id": "Ith2wAWrwyPQ"
   },
   "source": [
    "### Analyze Split in Computer Generated and Human Written"
   ]
  },
  {
   "cell_type": "code",
   "execution_count": 3,
   "metadata": {
    "colab": {
     "base_uri": "https://localhost:8080/"
    },
    "id": "9Dny8vMXrQMq",
    "outputId": "ba385a6d-230c-4d29-c79d-a50ca8dcb9f6"
   },
   "outputs": [
    {
     "name": "stdout",
     "output_type": "stream",
     "text": [
      "0    60700\n",
      "1    60118\n",
      "Name: Generated, dtype: int64\n",
      "1    20466\n",
      "0    19807\n",
      "Name: Generated, dtype: int64\n",
      "0    20175\n",
      "1    20098\n",
      "Name: Generated, dtype: int64\n"
     ]
    }
   ],
   "source": [
    "print(ytrain['Generated'].value_counts())\n",
    "print(ytest['Generated'].value_counts())\n",
    "print(yvalid['Generated'].value_counts())"
   ]
  },
  {
   "cell_type": "markdown",
   "metadata": {
    "id": "vTGCpZFKw75-"
   },
   "source": [
    "### Tokenization"
   ]
  },
  {
   "cell_type": "code",
   "execution_count": 5,
   "metadata": {
    "colab": {
     "base_uri": "https://localhost:8080/"
    },
    "id": "bG8whZzjzaam",
    "outputId": "8644c03a-1b9c-4b3b-ad40-18129313e9c1"
   },
   "outputs": [
    {
     "name": "stderr",
     "output_type": "stream",
     "text": [
      "[nltk_data] Downloading package stopwords to\n",
      "[nltk_data]     C:\\Users\\John\\AppData\\Roaming\\nltk_data...\n",
      "[nltk_data]   Package stopwords is already up-to-date!\n"
     ]
    },
    {
     "data": {
      "text/plain": [
       "True"
      ]
     },
     "execution_count": 5,
     "metadata": {},
     "output_type": "execute_result"
    }
   ],
   "source": [
    "import nltk\n",
    "from nltk.corpus import stopwords \n",
    "nltk.download('stopwords')"
   ]
  },
  {
   "cell_type": "code",
   "execution_count": 6,
   "metadata": {
    "id": "XgX3XInbmxq4"
   },
   "outputs": [],
   "source": [
    "def processWord(word):\n",
    "    return re.sub(r'\\W+', '', word)\n",
    "\n",
    "\n",
    "def createOneHotDict(x_train):\n",
    "    word_set = set()\n",
    "    stop_words = set(stopwords.words('english'))\n",
    "    for sentence in x_train['Review'].values:\n",
    "        sentence = str(sentence)\n",
    "        for word in sentence.lower().split():\n",
    "            word = processWord(word)\n",
    "            if word not in stop_words and word != '' and word not in word_set:\n",
    "                word_set.add(word)\n",
    "\n",
    "    return {word:i+1 for i, word in enumerate(word_set)}\n",
    "\n",
    "def tokenize(x_train, y_train, vocabulary):\n",
    "    tokenized_x_train = [[vocabulary[processWord(word)] for word in str(sentence).lower().split() if processWord(word) in vocabulary] for sentence in x_train['Review'].values]\n",
    "    return np.array(tokenized_x_train), np.array(y_train['Generated'].values)"
   ]
  },
  {
   "cell_type": "code",
   "execution_count": 7,
   "metadata": {
    "colab": {
     "base_uri": "https://localhost:8080/",
     "height": 35
    },
    "id": "UKmZlV8X0lP5",
    "outputId": "5630e82a-6f23-4906-b452-b2be456074a1"
   },
   "outputs": [
    {
     "data": {
      "text/plain": [
       "'13dollars'"
      ]
     },
     "execution_count": 7,
     "metadata": {},
     "output_type": "execute_result"
    }
   ],
   "source": [
    "processWord(\"$13 dollars\")"
   ]
  },
  {
   "cell_type": "code",
   "execution_count": 8,
   "metadata": {
    "colab": {
     "base_uri": "https://localhost:8080/"
    },
    "id": "23y0LCVqmxq5",
    "outputId": "2635eff8-0f94-4b21-8364-1fddd31869e3"
   },
   "outputs": [
    {
     "name": "stderr",
     "output_type": "stream",
     "text": [
      "C:\\Users\\John\\AppData\\Local\\Temp\\ipykernel_12528\\887965443.py:26: VisibleDeprecationWarning: Creating an ndarray from ragged nested sequences (which is a list-or-tuple of lists-or-tuples-or ndarrays with different lengths or shapes) is deprecated. If you meant to do this, you must specify 'dtype=object' when creating the ndarray.\n",
      "  return np.array(tokenized_x_train), np.array(encoded_y_train), np.array(tokenized_x_valid), np.array(encoded_y_valid), np.array(tokenized_x_test), np.array(encoded_y_test), onehot_dict\n"
     ]
    }
   ],
   "source": [
    "vocabulary = createOneHotDict(Xtrain)\n",
    "Xtrain, ytrain = tokenize(Xtrain, ytrain, vocabulary)\n",
    "Xvalid, yvalid = tokenize(Xvalid, yvalid, vocabulary)\n",
    "Xtest, ytest = tokenize(Xtest, ytest, vocabulary)"
   ]
  },
  {
   "cell_type": "markdown",
   "metadata": {
    "id": "bsoI9JWJ5b1Q"
   },
   "source": [
    "### Analyze Split in Fake Reviews (Class 0) and Real Reviews (Class 1)"
   ]
  },
  {
   "cell_type": "code",
   "execution_count": 11,
   "metadata": {
    "id": "S6U-9tMdmxq4"
   },
   "outputs": [],
   "source": [
    "def padVectors(sentences, length):\n",
    "    vectors = np.zeros((len(sentences), length), dtype=int)\n",
    "    for i, sentence in enumerate(sentences):\n",
    "        if len(sentence) != 0:\n",
    "            l = min(length, len(sentence))\n",
    "            vectors[i, -l:] = np.array(sentence)[:l]\n",
    "    return vectors"
   ]
  },
  {
   "cell_type": "code",
   "execution_count": 12,
   "metadata": {
    "id": "-f-bx82ymxq6"
   },
   "outputs": [],
   "source": [
    "Xtrain_padded = padVectors(Xtrain, 250)\n",
    "Xvalid_padded = padVectors(Xvalid, 250)\n",
    "Xtest_padded = padVectors(Xtest, 250)"
   ]
  },
  {
   "cell_type": "markdown",
   "metadata": {
    "id": "1HyrH7hB5mLc"
   },
   "source": [
    "### Create Datasets and DataLoaders"
   ]
  },
  {
   "cell_type": "code",
   "execution_count": 13,
   "metadata": {
    "id": "ZlsIYknU5oz8"
   },
   "outputs": [],
   "source": [
    "train_data = torch.utils.data.TensorDataset(torch.from_numpy(Xtrain_padded), torch.from_numpy(ytrain))\n",
    "validation_data = torch.utils.data.TensorDataset(torch.from_numpy(Xvalid_padded), torch.from_numpy(yvalid))\n",
    "test_data = torch.utils.data.TensorDataset(torch.from_numpy(Xtest_padded), torch.from_numpy(ytest))\n",
    "\n",
    "\n",
    "# batch size for dataloaders\n",
    "BATCH_SIZE = 64\n",
    "\n",
    "train_loader = torch.utils.data.DataLoader(train_data, shuffle=True, batch_size=BATCH_SIZE, drop_last=True)\n",
    "validation_loader = torch.utils.data.DataLoader(validation_data, shuffle=True, batch_size=BATCH_SIZE, drop_last=True)\n",
    "test_loader = torch.utils.data.DataLoader(test_data, shuffle=True, batch_size=BATCH_SIZE, drop_last=True)"
   ]
  },
  {
   "cell_type": "code",
   "execution_count": 14,
   "metadata": {
    "id": "PPeyajvCmxq6"
   },
   "outputs": [],
   "source": [
    "class ReviewClassifier(nn.Module):\n",
    "    def __init__(self,vocab_size,embedding_dim, hidden_dim):\n",
    "        super(ReviewClassifier,self).__init__()\n",
    "        self.hidden_dim = hidden_dim\n",
    "        self.embedding = nn.Embedding(vocab_size, embedding_dim)\n",
    "        self.lstm = nn.LSTM(input_size=embedding_dim,\n",
    "                            hidden_size=hidden_dim,\n",
    "                            num_layers=1,\n",
    "                            batch_first=True)\n",
    "        self.fc = nn.Linear(self.hidden_dim, 1)\n",
    "        self.sigmoid = nn.Sigmoid()\n",
    "        \n",
    "    def forward(self,x,hidden):\n",
    "        batch_size = x.size(0)\n",
    "        # embedding layer\n",
    "        embeds = self.embedding(x) \n",
    "        # LSTM layer\n",
    "        lstm_out, hidden = self.lstm(embeds, hidden)\n",
    "        lstm_out = lstm_out.contiguous().view(-1, self.hidden_dim) \n",
    "        # Feed Forward Network\n",
    "        out = self.fc(lstm_out)\n",
    "        # sigmoid function\n",
    "        sig_out = self.sigmoid(out)\n",
    "        # reshape to be batch_size first\n",
    "        sig_out = sig_out.view(batch_size, -1)\n",
    "        sig_out = sig_out[:, -1] # get last batch of labels\n",
    "        # return last sigmoid output and hidden state\n",
    "        return sig_out, hidden\n",
    "        \n",
    "    def init_hidden(self, batch_size):\n",
    "        # create zero tensors for the hidden state and cell state of LSTM\n",
    "        h0 = torch.zeros((1,batch_size,self.hidden_dim)).to(device)\n",
    "        c0 = torch.zeros((1,batch_size,self.hidden_dim)).to(device)\n",
    "        return (h0,c0)"
   ]
  },
  {
   "cell_type": "code",
   "execution_count": 15,
   "metadata": {
    "colab": {
     "base_uri": "https://localhost:8080/"
    },
    "id": "LOBrVddRnykz",
    "outputId": "214db5dc-5dca-4392-bfa2-019f6da00ca6"
   },
   "outputs": [
    {
     "name": "stdout",
     "output_type": "stream",
     "text": [
      "GPU is available\n"
     ]
    }
   ],
   "source": [
    "is_cuda = torch.cuda.is_available()\n",
    "\n",
    "# If we have a GPU available, we'll set our device to GPU. We'll use this device variable later in our code.\n",
    "if is_cuda:\n",
    "    device = torch.device(\"cuda\")\n",
    "    print(\"GPU is available\")\n",
    "else:\n",
    "    device = torch.device(\"cpu\")\n",
    "    print(\"GPU not available, CPU used\")"
   ]
  },
  {
   "cell_type": "markdown",
   "metadata": {},
   "source": [
    "### Create Model"
   ]
  },
  {
   "cell_type": "code",
   "execution_count": 16,
   "metadata": {},
   "outputs": [],
   "source": [
    "vocabulary_size = len(vocabulary)+1\n",
    "embedding_dim = 64\n",
    "hidden_dim = 256"
   ]
  },
  {
   "cell_type": "code",
   "execution_count": 17,
   "metadata": {
    "colab": {
     "base_uri": "https://localhost:8080/"
    },
    "id": "cySbi94Tmxq6",
    "outputId": "cf6d94c7-d145-4f0e-d057-122af91ca4e9"
   },
   "outputs": [
    {
     "name": "stdout",
     "output_type": "stream",
     "text": [
      "ReviewClassifier(\n",
      "  (embedding): Embedding(125382, 64)\n",
      "  (lstm): LSTM(64, 256, batch_first=True)\n",
      "  (fc): Linear(in_features=256, out_features=1, bias=True)\n",
      "  (sigmoid): Sigmoid()\n",
      ")\n"
     ]
    }
   ],
   "source": [
    "model = ReviewClassifier(vocabulary_size, embedding_dim, hidden_dim)\n",
    "model.to(device)\n",
    "\n",
    "print(model)"
   ]
  },
  {
   "cell_type": "markdown",
   "metadata": {
    "id": "nrlQFQUbLuLt"
   },
   "source": [
    "# Training"
   ]
  },
  {
   "cell_type": "markdown",
   "metadata": {
    "id": "S9s05iIdLbG0"
   },
   "source": [
    "### Pretraining Guess on Test Example"
   ]
  },
  {
   "cell_type": "code",
   "execution_count": 18,
   "metadata": {
    "colab": {
     "base_uri": "https://localhost:8080/"
    },
    "id": "LswqGoKOLb3h",
    "outputId": "0e7bb5d6-fcbf-43f8-ac18-5512b6490a8d"
   },
   "outputs": [
    {
     "name": "stdout",
     "output_type": "stream",
     "text": [
      "Score: 0.5120322704315186\n",
      "1\n"
     ]
    }
   ],
   "source": [
    "with torch.no_grad():\n",
    "    inputs = torch.from_numpy(Xtest_padded[35]).reshape(1,250).to(device)\n",
    "    h= model.init_hidden(1)\n",
    "    h = tuple([each.data for each in h])\n",
    "    score, hidden = model(inputs, h)\n",
    "    print(\"Score:\", score.item())\n",
    "    print(ytest[35])"
   ]
  },
  {
   "cell_type": "markdown",
   "metadata": {
    "id": "kiuKnDzzLo9R"
   },
   "source": [
    "### Set Hyper Parameters"
   ]
  },
  {
   "cell_type": "code",
   "execution_count": 19,
   "metadata": {
    "id": "APlho5uKagLS"
   },
   "outputs": [],
   "source": [
    "optimizer = torch.optim.SGD(model.parameters(),lr=0.1)\n",
    "criterion = nn.BCELoss()\n",
    "\n",
    "def acc(pred, label):\n",
    "    pred = torch.round(pred.squeeze())\n",
    "    return torch.sum(pred == label.squeeze()).item()"
   ]
  },
  {
   "cell_type": "markdown",
   "metadata": {
    "id": "n6wJKsXKLrrQ"
   },
   "source": [
    "### Train Model"
   ]
  },
  {
   "cell_type": "code",
   "execution_count": 20,
   "metadata": {},
   "outputs": [],
   "source": [
    "clip = 5\n",
    "epochs = 25\n",
    "valid_loss_min = np.Inf\n",
    "valid_accuracy_max = np.NINF\n",
    "training_loss, validation_loss, training_acc, valid_acc = [], [], [], []"
   ]
  },
  {
   "cell_type": "code",
   "execution_count": 21,
   "metadata": {
    "colab": {
     "base_uri": "https://localhost:8080/"
    },
    "id": "9_AHFyZKmxq7",
    "outputId": "cdd5a2a4-8044-4569-87ff-62f4696b64ed",
    "scrolled": false
   },
   "outputs": [
    {
     "name": "stdout",
     "output_type": "stream",
     "text": [
      "Epoch 1\n",
      "train_loss : 0.6736136103472383 val_loss : 0.645607211726269\n",
      "train_accuracy : 57.003923256468404 val_accuracy : 63.03727062796415\n",
      "Validation loss decreased (inf --> 0.64561).  Saving model ...\n",
      "Validation accuracy increased (-inf --> 0.63037).  Saving model ...\n",
      "==================================================\n",
      "Epoch 2\n",
      "train_loss : 0.6399060297119725 val_loss : 0.6238550584532309\n",
      "train_accuracy : 63.359764273535404 val_accuracy : 65.16028108161795\n",
      "Validation loss decreased (0.64561 --> 0.62386).  Saving model ...\n",
      "Validation accuracy increased (0.63037 --> 0.65160).  Saving model ...\n",
      "==================================================\n",
      "Epoch 3\n",
      "train_loss : 0.6198199773883466 val_loss : 0.6482990976357877\n",
      "train_accuracy : 65.27090334221722 val_accuracy : 63.034787574801975\n",
      "==================================================\n",
      "Epoch 4\n",
      "train_loss : 0.6037016407989861 val_loss : 0.5964734574190573\n",
      "train_accuracy : 66.75247065834562 val_accuracy : 67.67064782857001\n",
      "Validation loss decreased (0.62386 --> 0.59647).  Saving model ...\n",
      "Validation accuracy increased (0.65160 --> 0.67671).  Saving model ...\n",
      "==================================================\n",
      "Epoch 5\n",
      "train_loss : 0.5932368415812052 val_loss : 0.5909419021849034\n",
      "train_accuracy : 67.44359284212618 val_accuracy : 67.74017331711072\n",
      "Validation loss decreased (0.59647 --> 0.59094).  Saving model ...\n",
      "Validation accuracy increased (0.67671 --> 0.67740).  Saving model ...\n",
      "==================================================\n",
      "Epoch 6\n",
      "train_loss : 0.5846047194375522 val_loss : 0.5860306881190483\n",
      "train_accuracy : 68.04780744591038 val_accuracy : 67.68058004121869\n",
      "Validation loss decreased (0.59094 --> 0.58603).  Saving model ...\n",
      "==================================================\n",
      "Epoch 7\n",
      "train_loss : 0.5790337483340872 val_loss : 0.5918591667813603\n",
      "train_accuracy : 68.56676985217435 val_accuracy : 68.00586000546272\n",
      "Validation accuracy increased (0.67740 --> 0.68006).  Saving model ...\n",
      "==================================================\n",
      "Epoch 8\n",
      "train_loss : 0.5733196770759506 val_loss : 0.5812770158099825\n",
      "train_accuracy : 69.04600307901141 val_accuracy : 68.09524991930077\n",
      "Validation loss decreased (0.58603 --> 0.58128).  Saving model ...\n",
      "Validation accuracy increased (0.68006 --> 0.68095).  Saving model ...\n",
      "==================================================\n",
      "Epoch 9\n",
      "train_loss : 0.5688157535351075 val_loss : 0.5852667280903682\n",
      "train_accuracy : 69.4151533711864 val_accuracy : 67.8270801777866\n",
      "==================================================\n",
      "Epoch 10\n",
      "train_loss : 0.5651008485958067 val_loss : 0.5800290788110755\n",
      "train_accuracy : 69.8141005479316 val_accuracy : 68.28147890646339\n",
      "Validation loss decreased (0.58128 --> 0.58003).  Saving model ...\n",
      "Validation accuracy increased (0.68095 --> 0.68281).  Saving model ...\n",
      "==================================================\n",
      "Epoch 11\n",
      "train_loss : 0.5603183035220048 val_loss : 0.5827829200057801\n",
      "train_accuracy : 70.04337102087436 val_accuracy : 68.25913142800387\n",
      "==================================================\n",
      "Epoch 12\n",
      "train_loss : 0.5560514050055637 val_loss : 0.5957021481566285\n",
      "train_accuracy : 70.3512721614329 val_accuracy : 66.81896059394631\n",
      "==================================================\n",
      "Epoch 13\n",
      "train_loss : 0.5527425748081389 val_loss : 0.5863337173276183\n",
      "train_accuracy : 70.76097932427288 val_accuracy : 67.98102947384103\n",
      "==================================================\n",
      "Epoch 14\n",
      "train_loss : 0.5466946837569774 val_loss : 0.5818079759756218\n",
      "train_accuracy : 71.20048337168303 val_accuracy : 68.15732624835498\n",
      "==================================================\n",
      "Epoch 15\n",
      "train_loss : 0.5422313162019534 val_loss : 0.5914538696953148\n",
      "train_accuracy : 71.42644307967356 val_accuracy : 68.05800412186825\n",
      "==================================================\n",
      "Epoch 16\n",
      "train_loss : 0.5377225887541678 val_loss : 0.5788423333240048\n",
      "train_accuracy : 71.8576702147031 val_accuracy : 68.26658058749038\n",
      "Validation loss decreased (0.58003 --> 0.57884).  Saving model ...\n",
      "==================================================\n",
      "Epoch 17\n",
      "train_loss : 0.532711798843405 val_loss : 0.5829093048796176\n",
      "train_accuracy : 72.3426972802066 val_accuracy : 68.33113996970675\n",
      "Validation accuracy increased (0.68281 --> 0.68331).  Saving model ...\n",
      "==================================================\n",
      "Epoch 18\n",
      "train_loss : 0.5271526087859224 val_loss : 0.582153781656241\n",
      "train_accuracy : 72.6845337615256 val_accuracy : 67.95868199538153\n",
      "==================================================\n",
      "Epoch 19\n",
      "train_loss : 0.5216069817069225 val_loss : 0.5895405828668506\n",
      "train_accuracy : 73.18032081312387 val_accuracy : 67.97854642067887\n",
      "==================================================\n",
      "Epoch 20\n",
      "train_loss : 0.5158642835729516 val_loss : 0.5891568596772435\n",
      "train_accuracy : 73.51222499958615 val_accuracy : 67.71534278548904\n",
      "==================================================\n",
      "Epoch 21\n",
      "train_loss : 0.5109604000571423 val_loss : 0.6235364585972742\n",
      "train_accuracy : 73.86647684947607 val_accuracy : 66.92076577359522\n",
      "==================================================\n",
      "Epoch 22\n",
      "train_loss : 0.5038749349610036 val_loss : 0.6026774345880851\n",
      "train_accuracy : 74.43841149497591 val_accuracy : 67.8891565068408\n",
      "==================================================\n",
      "Epoch 23\n",
      "train_loss : 0.4963809388241063 val_loss : 0.6096319063005462\n",
      "train_accuracy : 74.94578622390704 val_accuracy : 67.7252749981377\n",
      "==================================================\n",
      "Epoch 24\n",
      "train_loss : 0.48924709377177633 val_loss : 0.6109121457476684\n",
      "train_accuracy : 75.37784105017464 val_accuracy : 66.91083356094654\n",
      "==================================================\n",
      "Epoch 25\n",
      "train_loss : 0.48190017342251573 val_loss : 0.6192569961987543\n",
      "train_accuracy : 76.03502789319472 val_accuracy : 67.32053733270429\n",
      "==================================================\n"
     ]
    }
   ],
   "source": [
    "for i in range(epochs):\n",
    "    train_losses = []\n",
    "    train_acc = 0.0\n",
    "    model.train()\n",
    "    h = model.init_hidden(BATCH_SIZE)\n",
    "\n",
    "    for inputs, labels in train_loader:\n",
    "        inputs, labels = inputs.to(device), labels.to(device)\n",
    "\n",
    "        h = tuple([each.data for each in h])\n",
    "        model.zero_grad()\n",
    "        output, h = model(inputs, h)\n",
    "        #calculate loss\n",
    "        loss = criterion(output.squeeze(),labels.float())\n",
    "        loss.backward()\n",
    "\n",
    "        train_losses.append(loss.item())\n",
    "\n",
    "        #accuracy\n",
    "        train_acc += acc(output, labels)\n",
    "\n",
    "        # prevent exploding gradient\n",
    "        nn.utils.clip_grad_norm_(model.parameters(), clip)\n",
    "        optimizer.step()\n",
    "        \n",
    "    val_h = model.init_hidden(BATCH_SIZE)\n",
    "    val_losses = []\n",
    "    val_acc = 0.0\n",
    "    model.eval()\n",
    "    for inputs, labels in validation_loader:\n",
    "        val_h = tuple([each.data for each in val_h])\n",
    "\n",
    "        inputs, labels = inputs.to(device), labels.to(device)\n",
    "\n",
    "        output, val_h = model(inputs, val_h)\n",
    "        val_loss = criterion(output.squeeze(), labels.float())\n",
    "\n",
    "        val_losses.append(val_loss.item())\n",
    "\n",
    "        accuracy = acc(output,labels)\n",
    "        val_acc += accuracy\n",
    "    # Calculate average loss and the accuracies\n",
    "    epoch_train_loss = np.mean(train_losses)\n",
    "    epoch_val_loss = np.mean(val_losses)\n",
    "    epoch_train_acc = train_acc/len(train_loader.dataset)\n",
    "    epoch_val_acc = val_acc/len(validation_loader.dataset)\n",
    "\n",
    "    training_loss.append(epoch_train_loss)\n",
    "    validation_loss.append(epoch_val_loss)\n",
    "    training_acc.append(epoch_train_acc)\n",
    "    valid_acc.append(epoch_val_acc)\n",
    "    print(f'Epoch {i+1}') \n",
    "    print(f'train_loss : {epoch_train_loss} val_loss : {epoch_val_loss}')\n",
    "    print(f'train_accuracy : {epoch_train_acc*100} val_accuracy : {epoch_val_acc*100}')\n",
    "    \n",
    "    # Model Presenting Lowest Loss\n",
    "    if epoch_val_loss <= valid_loss_min:\n",
    "        torch.save(model.state_dict(), 'best_loss_undersampled_state_dict.pt')\n",
    "        print('Validation loss decreased ({:.5f} --> {:.5f}).  Saving model ...'.format(valid_loss_min,epoch_val_loss))\n",
    "        valid_loss_min = epoch_val_loss\n",
    "    # Model Presenting Highest Accuracy\n",
    "    if epoch_val_acc >= valid_accuracy_max:\n",
    "        torch.save(model.state_dict(), 'best_acc_undersampled_state_dict.pt')\n",
    "        print('Validation accuracy increased ({:.5f} --> {:.5f}).  Saving model ...'.format(valid_accuracy_max,epoch_val_acc))\n",
    "        valid_accuracy_max = epoch_val_acc\n",
    "    print(25*'==')\n"
   ]
  },
  {
   "cell_type": "markdown",
   "metadata": {
    "id": "wO-HiMeTLhmA"
   },
   "source": [
    "### Post-Training Guess on Example"
   ]
  },
  {
   "cell_type": "code",
   "execution_count": 22,
   "metadata": {
    "colab": {
     "base_uri": "https://localhost:8080/"
    },
    "id": "h151fAx-p_cN",
    "outputId": "d6e94e3e-fcc8-4fff-cca9-ae69b64fdc2f"
   },
   "outputs": [
    {
     "name": "stdout",
     "output_type": "stream",
     "text": [
      "Score: 0.9513936638832092\n",
      "1\n"
     ]
    }
   ],
   "source": [
    "with torch.no_grad():\n",
    "  inputs = torch.from_numpy(Xtest_padded[35]).reshape(1,250).to(device)\n",
    "  h= model.init_hidden(1)\n",
    "  h = tuple([each.data for each in h])\n",
    "  score, hidden = model(inputs, h)\n",
    "  print(\"Score:\", score.item())\n",
    "  print(ytest[35])"
   ]
  },
  {
   "cell_type": "code",
   "execution_count": 23,
   "metadata": {
    "colab": {
     "base_uri": "https://localhost:8080/",
     "height": 390
    },
    "id": "wtTQH8ilY-be",
    "outputId": "cfd5c0bc-6101-4fca-ef91-769b0861889a"
   },
   "outputs": [
    {
     "data": {
      "image/png": "[encoded data removed]",
      "text/plain": [
       "<Figure size 2000x600 with 2 Axes>"
      ]
     },
     "metadata": {},
     "output_type": "display_data"
    }
   ],
   "source": [
    "fig = plt.figure(figsize = (20, 6))\n",
    "plt.subplot(1, 2, 1)\n",
    "plt.plot(training_acc, label='Train Acc')\n",
    "plt.plot(valid_acc, label='Validation Acc')\n",
    "plt.title(\"Accuracy\")\n",
    "plt.legend()\n",
    "plt.grid()\n",
    "    \n",
    "plt.subplot(1, 2, 2)\n",
    "plt.plot(training_loss, label='Train loss')\n",
    "plt.plot(validation_loss, label='Validation loss')\n",
    "plt.title(\"Loss\")\n",
    "plt.legend()\n",
    "plt.grid()\n",
    "\n",
    "plt.show()"
   ]
  },
  {
   "cell_type": "markdown",
   "metadata": {},
   "source": [
    "### Calculate on Test and Display Confusion"
   ]
  },
  {
   "cell_type": "code",
   "execution_count": 24,
   "metadata": {},
   "outputs": [],
   "source": [
    "def return_misses(inputs, output, labels, vocab):\n",
    "    pred = torch.round(output.squeeze())\n",
    "    labels = labels.squeeze()\n",
    "    misses = []\n",
    "    false_negative = 0\n",
    "    false_positive = 0\n",
    "    for i in range(len(pred)):\n",
    "        if pred[i] != labels[i]:\n",
    "            if pred[i] == 0:\n",
    "                false_positive += 1\n",
    "            else:\n",
    "                false_negative += 1\n",
    "        misses.append(' '.join([vocab[inputs[i][j].item()] for j in range(len(inputs[i])) if inputs[i][j].item() != 0]))\n",
    "    return misses, false_negative, false_positive\n",
    "\n",
    "def do_test_stats():\n",
    "    test_h = model.init_hidden(32)\n",
    "    test_losses = []\n",
    "    test_acc = 0.0\n",
    "    tot_misses = []\n",
    "    model.eval()\n",
    "    vocab_r = {v: k for k, v in vocabulary.items()}\n",
    "    false_positives = 0\n",
    "    false_negatives = 0\n",
    "    tot_outputs = 0\n",
    "    tot_labels = 0\n",
    "\n",
    "    test_loader = torch.utils.data.DataLoader(test_data, shuffle=True, batch_size=32, drop_last=True)\n",
    "    with torch.no_grad():\n",
    "        for inputs, labels in test_loader:\n",
    "            test_h = tuple([each.data for each in test_h])\n",
    "\n",
    "            inputs, labels = inputs.to(device), labels.to(device)\n",
    "\n",
    "            output, test_h = model(inputs, test_h)\n",
    "            test_loss = criterion(output.squeeze(), labels.float())\n",
    "\n",
    "            test_losses.append(test_loss.item())\n",
    "            misses, fneg, fpos = return_misses(inputs, output, labels, vocab_r)\n",
    "            tot_misses.extend(misses)\n",
    "            false_positives += fpos\n",
    "            false_negatives += fneg\n",
    "            accuracy = acc(output,labels)\n",
    "            test_acc += accuracy\n",
    "\n",
    "            tot_outputs = output if type(tot_outputs) == type(0) else torch.cat((tot_outputs, output))\n",
    "            tot_labels = labels if type(tot_labels) == type(0) else torch.cat((tot_labels, labels))\n",
    "\n",
    "    test_loss = np.mean(test_losses)\n",
    "    test_acc = test_acc/len(test_loader.dataset)\n",
    "    print(f'test_loss : {test_loss}')\n",
    "    print(f'test_accuracy : {test_acc*100}')\n",
    "    print(f'false_positive : {false_positives / len(test_loader.dataset)} ')\n",
    "    print(f'false_negatives : {false_negatives / len(test_loader.dataset)} ')\n",
    "    return tot_outputs, tot_labels\n",
    "    \n",
    "def display_confusion_matrix(tot_outputs, tot_labels):\n",
    "    cm = confusion_matrix(tot_labels.cpu().data.numpy(), torch.round(tot_outputs.squeeze()).cpu().data.numpy())\n",
    "    disp = ConfusionMatrixDisplay(confusion_matrix=cm)\n",
    "    disp.plot()\n",
    "    plt.show()"
   ]
  },
  {
   "cell_type": "code",
   "execution_count": 25,
   "metadata": {},
   "outputs": [
    {
     "name": "stdout",
     "output_type": "stream",
     "text": [
      "test_loss : 0.6197830060043851\n",
      "test_accuracy : 67.61105455267797\n",
      "false_positive : 0.13999453728304323 \n",
      "false_negatives : 0.18347279815260845 \n"
     ]
    }
   ],
   "source": [
    "tot_outputs, tot_labels = do_test_stats()"
   ]
  },
  {
   "cell_type": "code",
   "execution_count": 26,
   "metadata": {},
   "outputs": [
    {
     "data": {
      "image/png": "[encoded data removed]",
      "text/plain": [
       "<Figure size 640x480 with 2 Axes>"
      ]
     },
     "metadata": {},
     "output_type": "display_data"
    }
   ],
   "source": [
    "display_confusion_matrix(tot_outputs, tot_labels)"
   ]
  },
  {
   "cell_type": "code",
   "execution_count": 27,
   "metadata": {},
   "outputs": [],
   "source": [
    "# Save final model\n",
    "torch.save(model.state_dict(), 'post_training_undersampled_state_dict.pt')"
   ]
  },
  {
   "cell_type": "markdown",
   "metadata": {},
   "source": [
    "### Save onehot dictionary"
   ]
  },
  {
   "cell_type": "code",
   "execution_count": 28,
   "metadata": {},
   "outputs": [],
   "source": [
    "import pickle\n",
    "with open(\"undersampled_onehot.pkl\", \"wb\") as file:\n",
    "    pickle.dump(vocabulary, file)"
   ]
  },
  {
   "cell_type": "markdown",
   "metadata": {},
   "source": [
    "## Best Accuracy Model"
   ]
  },
  {
   "cell_type": "markdown",
   "metadata": {
    "id": "zRD4Byz3LNC3"
   },
   "source": [
    "### Evaluate Best Accuracy Model on Test Data"
   ]
  },
  {
   "cell_type": "code",
   "execution_count": 29,
   "metadata": {},
   "outputs": [
    {
     "data": {
      "text/plain": [
       "ReviewClassifier(\n",
       "  (embedding): Embedding(125382, 64)\n",
       "  (lstm): LSTM(64, 256, batch_first=True)\n",
       "  (fc): Linear(in_features=256, out_features=1, bias=True)\n",
       "  (sigmoid): Sigmoid()\n",
       ")"
      ]
     },
     "execution_count": 29,
     "metadata": {},
     "output_type": "execute_result"
    }
   ],
   "source": [
    "model = ReviewClassifier(vocabulary_size, embedding_dim, hidden_dim)\n",
    "model.load_state_dict(torch.load(\"best_acc_undersampled_state_dict.pt\"))\n",
    "model.to(device)\n",
    "model.eval()"
   ]
  },
  {
   "cell_type": "code",
   "execution_count": 30,
   "metadata": {
    "colab": {
     "base_uri": "https://localhost:8080/"
    },
    "id": "3gipsbVTZHk5",
    "outputId": "1536bdbd-1568-4bd1-b088-4978c37730e6",
    "scrolled": true
   },
   "outputs": [
    {
     "name": "stdout",
     "output_type": "stream",
     "text": [
      "test_loss : 0.5832340399392648\n",
      "test_accuracy : 68.52730116951804\n",
      "false_positive : 0.15737590941822063 \n",
      "false_negatives : 0.15692895984903038 \n"
     ]
    }
   ],
   "source": [
    "tot_outputs, tot_labels = do_test_stats()"
   ]
  },
  {
   "cell_type": "markdown",
   "metadata": {
    "id": "ZHkK0pacLRCs"
   },
   "source": [
    "### Display Confusion Matrix"
   ]
  },
  {
   "cell_type": "code",
   "execution_count": 31,
   "metadata": {
    "colab": {
     "base_uri": "https://localhost:8080/",
     "height": 279
    },
    "id": "cBIT6PyWZVhH",
    "outputId": "30eddf4c-05f4-47b6-fb10-444d7faaa09f"
   },
   "outputs": [
    {
     "data": {
      "image/png": "[encoded data removed]",
      "text/plain": [
       "<Figure size 640x480 with 2 Axes>"
      ]
     },
     "metadata": {},
     "output_type": "display_data"
    }
   ],
   "source": [
    "display_confusion_matrix(tot_outputs, tot_labels)"
   ]
  },
  {
   "cell_type": "markdown",
   "metadata": {},
   "source": [
    "## Best Loss Model"
   ]
  },
  {
   "cell_type": "markdown",
   "metadata": {
    "id": "zRD4Byz3LNC3"
   },
   "source": [
    "### Evaluate Best Loss Model on Test Data"
   ]
  },
  {
   "cell_type": "code",
   "execution_count": 32,
   "metadata": {},
   "outputs": [
    {
     "data": {
      "text/plain": [
       "ReviewClassifier(\n",
       "  (embedding): Embedding(125382, 64)\n",
       "  (lstm): LSTM(64, 256, batch_first=True)\n",
       "  (fc): Linear(in_features=256, out_features=1, bias=True)\n",
       "  (sigmoid): Sigmoid()\n",
       ")"
      ]
     },
     "execution_count": 32,
     "metadata": {},
     "output_type": "execute_result"
    }
   ],
   "source": [
    "model = ReviewClassifier(vocabulary_size, embedding_dim, hidden_dim)\n",
    "model.load_state_dict(torch.load(\"best_loss_undersampled_state_dict.pt\"))\n",
    "model.to(device)\n",
    "model.eval()"
   ]
  },
  {
   "cell_type": "code",
   "execution_count": 33,
   "metadata": {
    "colab": {
     "base_uri": "https://localhost:8080/"
    },
    "id": "3gipsbVTZHk5",
    "outputId": "1536bdbd-1568-4bd1-b088-4978c37730e6",
    "scrolled": true
   },
   "outputs": [
    {
     "name": "stdout",
     "output_type": "stream",
     "text": [
      "test_loss : 0.5766077215275438\n",
      "test_accuracy : 68.57447917959924\n",
      "false_positive : 0.1360464827551958 \n",
      "false_negatives : 0.17778660641124328 \n"
     ]
    }
   ],
   "source": [
    "tot_outputs, tot_labels = do_test_stats()"
   ]
  },
  {
   "cell_type": "markdown",
   "metadata": {
    "id": "ZHkK0pacLRCs"
   },
   "source": [
    "### Display Confusion Matrix"
   ]
  },
  {
   "cell_type": "code",
   "execution_count": 34,
   "metadata": {
    "colab": {
     "base_uri": "https://localhost:8080/",
     "height": 279
    },
    "id": "cBIT6PyWZVhH",
    "outputId": "30eddf4c-05f4-47b6-fb10-444d7faaa09f"
   },
   "outputs": [
    {
     "data": {
      "image/png": "[encoded data removed]",
      "text/plain": [
       "<Figure size 640x480 with 2 Axes>"
      ]
     },
     "metadata": {},
     "output_type": "display_data"
    }
   ],
   "source": [
    "display_confusion_matrix(tot_outputs, tot_labels)"
   ]
  },
  {
   "cell_type": "code",
   "execution_count": null,
   "metadata": {},
   "outputs": [],
   "source": []
  }
 ],
 "metadata": {
  "accelerator": "GPU",
  "colab": {
   "provenance": []
  },
  "gpuClass": "standard",
  "kernelspec": {
   "display_name": "Python 3 (ipykernel)",
   "language": "python",
   "name": "python3"
  },
  "language_info": {
   "codemirror_mode": {
    "name": "ipython",
    "version": 3
   },
   "file_extension": ".py",
   "mimetype": "text/x-python",
   "name": "python",
   "nbconvert_exporter": "python",
   "pygments_lexer": "ipython3",
   "version": "3.10.0"
  },
  "vscode": {
   "interpreter": {
    "hash": "aee8b7b246df8f9039afb4144a1f6fd8d2ca17a180786b69acc140d282b71a49"
   }
  }
 },
 "nbformat": 4,
 "nbformat_minor": 1
}
