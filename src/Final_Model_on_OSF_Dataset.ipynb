{
 "cells": [
  {
   "cell_type": "code",
   "execution_count": 1,
   "metadata": {
    "id": "CczwVPZomxq1"
   },
   "outputs": [
    {
     "name": "stderr",
     "output_type": "stream",
     "text": [
      "C:\\Users\\John\\AppData\\Local\\Packages\\PythonSoftwareFoundation.Python.3.10_qbz5n2kfra8p0\\LocalCache\\local-packages\\Python310\\site-packages\\tqdm\\auto.py:22: TqdmWarning: IProgress not found. Please update jupyter and ipywidgets. See https://ipywidgets.readthedocs.io/en/stable/user_install.html\n",
      "  from .autonotebook import tqdm as notebook_tqdm\n"
     ]
    }
   ],
   "source": [
    "import re\n",
    "import pandas as df\n",
    "import numpy as np\n",
    "import torch\n",
    "import torch.nn as nn\n",
    "from matplotlib import pyplot as plt\n",
    "from sklearn.metrics import confusion_matrix, ConfusionMatrixDisplay"
   ]
  },
  {
   "cell_type": "markdown",
   "metadata": {
    "id": "NuLI0Z0fwqQj"
   },
   "source": [
    "### Import Split Data"
   ]
  },
  {
   "cell_type": "code",
   "execution_count": 2,
   "metadata": {
    "id": "kBzY7xh2hIwZ"
   },
   "outputs": [],
   "source": [
    "Xtrain = df.read_csv('partitions/OSFXtrain.csv')\n",
    "ytrain = df.read_csv('partitions/OSFytrain.csv')\n",
    "Xvalid = df.read_csv('partitions/OSFXvalid.csv')\n",
    "yvalid = df.read_csv('partitions/OSFyvalid.csv')\n",
    "Xtest = df.read_csv('partitions/OSFXtest.csv')\n",
    "ytest = df.read_csv('partitions/OSFytest.csv')"
   ]
  },
  {
   "cell_type": "markdown",
   "metadata": {
    "id": "Ith2wAWrwyPQ"
   },
   "source": [
    "### Analyze Split in Computer Generated Reviews (Class 0) and Real Reviews (Class 1)"
   ]
  },
  {
   "cell_type": "code",
   "execution_count": 3,
   "metadata": {
    "colab": {
     "base_uri": "https://localhost:8080/"
    },
    "id": "9Dny8vMXrQMq",
    "outputId": "ba385a6d-230c-4d29-c79d-a50ca8dcb9f6"
   },
   "outputs": [
    {
     "name": "stdout",
     "output_type": "stream",
     "text": [
      "1    12189\n",
      "0    12070\n",
      "Name: Generated, dtype: int64\n",
      "0    4064\n",
      "1    4023\n",
      "Name: Generated, dtype: int64\n",
      "0    4082\n",
      "1    4004\n",
      "Name: Generated, dtype: int64\n"
     ]
    }
   ],
   "source": [
    "print(ytrain['Generated'].value_counts())\n",
    "print(ytest['Generated'].value_counts())\n",
    "print(yvalid['Generated'].value_counts())"
   ]
  },
  {
   "cell_type": "markdown",
   "metadata": {
    "id": "vTGCpZFKw75-"
   },
   "source": [
    "### Tokenization"
   ]
  },
  {
   "cell_type": "code",
   "execution_count": 5,
   "metadata": {
    "colab": {
     "base_uri": "https://localhost:8080/"
    },
    "id": "bG8whZzjzaam",
    "outputId": "8644c03a-1b9c-4b3b-ad40-18129313e9c1"
   },
   "outputs": [
    {
     "name": "stderr",
     "output_type": "stream",
     "text": [
      "[nltk_data] Downloading package stopwords to\n",
      "[nltk_data]     C:\\Users\\John\\AppData\\Roaming\\nltk_data...\n",
      "[nltk_data]   Package stopwords is already up-to-date!\n"
     ]
    },
    {
     "data": {
      "text/plain": [
       "True"
      ]
     },
     "execution_count": 5,
     "metadata": {},
     "output_type": "execute_result"
    }
   ],
   "source": [
    "import nltk\n",
    "from nltk.corpus import stopwords \n",
    "nltk.download('stopwords')"
   ]
  },
  {
   "cell_type": "code",
   "execution_count": 6,
   "metadata": {
    "id": "XgX3XInbmxq4"
   },
   "outputs": [],
   "source": [
    "def processWord(word):\n",
    "    return re.sub(r'\\W+', '', word)\n",
    "\n",
    "\n",
    "def createOneHotDict(x_train):\n",
    "    word_set = set()\n",
    "    stop_words = set(stopwords.words('english'))\n",
    "    for sentence in x_train['Review'].values:\n",
    "        sentence = str(sentence)\n",
    "        for word in sentence.lower().split():\n",
    "            word = processWord(word)\n",
    "            if word not in stop_words and word != '' and word not in word_set:\n",
    "                word_set.add(word)\n",
    "\n",
    "    return {word:i+1 for i, word in enumerate(word_set)}\n",
    "\n",
    "def tokenize(x_train, y_train, vocabulary):\n",
    "    tokenized_x_train = [[vocabulary[processWord(word)] for word in str(sentence).lower().split() if processWord(word) in vocabulary] for sentence in x_train['Review'].values]\n",
    "    return np.array(tokenized_x_train), np.array(y_train['Generated'].values)"
   ]
  },
  {
   "cell_type": "code",
   "execution_count": 7,
   "metadata": {
    "colab": {
     "base_uri": "https://localhost:8080/",
     "height": 35
    },
    "id": "UKmZlV8X0lP5",
    "outputId": "5630e82a-6f23-4906-b452-b2be456074a1"
   },
   "outputs": [
    {
     "data": {
      "text/plain": [
       "'13dollars'"
      ]
     },
     "execution_count": 7,
     "metadata": {},
     "output_type": "execute_result"
    }
   ],
   "source": [
    "processWord(\"$13 dollars\")"
   ]
  },
  {
   "cell_type": "code",
   "execution_count": 8,
   "metadata": {
    "colab": {
     "base_uri": "https://localhost:8080/"
    },
    "id": "23y0LCVqmxq5",
    "outputId": "2635eff8-0f94-4b21-8364-1fddd31869e3"
   },
   "outputs": [
    {
     "name": "stderr",
     "output_type": "stream",
     "text": [
      "C:\\Users\\John\\AppData\\Local\\Temp\\ipykernel_18348\\887965443.py:26: VisibleDeprecationWarning: Creating an ndarray from ragged nested sequences (which is a list-or-tuple of lists-or-tuples-or ndarrays with different lengths or shapes) is deprecated. If you meant to do this, you must specify 'dtype=object' when creating the ndarray.\n",
      "  return np.array(tokenized_x_train), np.array(encoded_y_train), np.array(tokenized_x_valid), np.array(encoded_y_valid), np.array(tokenized_x_test), np.array(encoded_y_test), onehot_dict\n"
     ]
    }
   ],
   "source": [
    "vocabulary = createOneHotDict(Xtrain)\n",
    "Xtrain, ytrain = tokenize(Xtrain, ytrain, vocabulary)\n",
    "Xvalid, yvalid = tokenize(Xvalid, yvalid, vocabulary)\n",
    "Xtest, ytest = tokenize(Xtest, ytest, vocabulary)"
   ]
  },
  {
   "cell_type": "markdown",
   "metadata": {
    "id": "bsoI9JWJ5b1Q"
   },
   "source": [
    "### Apply Post-Padding to the vectors and to cut all reviews down to max 250 words."
   ]
  },
  {
   "cell_type": "code",
   "execution_count": 11,
   "metadata": {
    "id": "S6U-9tMdmxq4"
   },
   "outputs": [],
   "source": [
    "def padVectors(sentences, length):\n",
    "    vectors = np.zeros((len(sentences), length), dtype=int)\n",
    "    for i, sentence in enumerate(sentences):\n",
    "        if len(sentence) != 0:\n",
    "            l = min(length, len(sentence))\n",
    "            vectors[i, -l:] = np.array(sentence)[:l]\n",
    "    return vectors"
   ]
  },
  {
   "cell_type": "code",
   "execution_count": 12,
   "metadata": {
    "id": "-f-bx82ymxq6"
   },
   "outputs": [],
   "source": [
    "Xtrain_padded = padVectors(Xtrain, 250)\n",
    "Xvalid_padded = padVectors(Xvalid, 250)\n",
    "Xtest_padded = padVectors(Xtest, 250)"
   ]
  },
  {
   "cell_type": "markdown",
   "metadata": {
    "id": "1HyrH7hB5mLc"
   },
   "source": [
    "### Create Datasets and DataLoaders"
   ]
  },
  {
   "cell_type": "code",
   "execution_count": 13,
   "metadata": {
    "id": "ZlsIYknU5oz8"
   },
   "outputs": [],
   "source": [
    "train_data = torch.utils.data.TensorDataset(torch.from_numpy(Xtrain_padded), torch.from_numpy(ytrain))\n",
    "validation_data = torch.utils.data.TensorDataset(torch.from_numpy(Xvalid_padded), torch.from_numpy(yvalid))\n",
    "test_data = torch.utils.data.TensorDataset(torch.from_numpy(Xtest_padded), torch.from_numpy(ytest))\n",
    "\n",
    "\n",
    "# batch size for dataloaders\n",
    "BATCH_SIZE = 64\n",
    "\n",
    "train_loader = torch.utils.data.DataLoader(train_data, shuffle=True, batch_size=BATCH_SIZE, drop_last=True)\n",
    "validation_loader = torch.utils.data.DataLoader(validation_data, shuffle=True, batch_size=BATCH_SIZE, drop_last=True)\n",
    "test_loader = torch.utils.data.DataLoader(test_data, shuffle=True, batch_size=BATCH_SIZE, drop_last=True)"
   ]
  },
  {
   "cell_type": "code",
   "execution_count": 14,
   "metadata": {
    "id": "PPeyajvCmxq6"
   },
   "outputs": [],
   "source": [
    "class ReviewClassifier(nn.Module):\n",
    "    def __init__(self,vocab_size,embedding_dim, hidden_dim):\n",
    "        super(ReviewClassifier,self).__init__()\n",
    "        self.hidden_dim = hidden_dim\n",
    "        self.embedding = nn.Embedding(vocab_size, embedding_dim)\n",
    "        self.lstm = nn.LSTM(input_size=embedding_dim,\n",
    "                            hidden_size=hidden_dim,\n",
    "                            num_layers=1,\n",
    "                            batch_first=True)\n",
    "        self.fc = nn.Linear(self.hidden_dim, 1)\n",
    "        self.sigmoid = nn.Sigmoid()\n",
    "        \n",
    "    def forward(self,x,hidden):\n",
    "        batch_size = x.size(0)\n",
    "        # embedding layer\n",
    "        embeds = self.embedding(x) \n",
    "        # LSTM layer\n",
    "        lstm_out, hidden = self.lstm(embeds, hidden)\n",
    "        lstm_out = lstm_out.contiguous().view(-1, self.hidden_dim) \n",
    "        # Feed Forward Network\n",
    "        out = self.fc(lstm_out)\n",
    "        # sigmoid function\n",
    "        sig_out = self.sigmoid(out)\n",
    "        # reshape to be batch_size first\n",
    "        sig_out = sig_out.view(batch_size, -1)\n",
    "        sig_out = sig_out[:, -1] # get last batch of labels\n",
    "        # return last sigmoid output and hidden state\n",
    "        return sig_out, hidden\n",
    "        \n",
    "    def init_hidden(self, batch_size):\n",
    "        # create zero tensors for the hidden state and cell state of LSTM\n",
    "        h0 = torch.zeros((1,batch_size,self.hidden_dim)).to(device)\n",
    "        c0 = torch.zeros((1,batch_size,self.hidden_dim)).to(device)\n",
    "        return (h0,c0)"
   ]
  },
  {
   "cell_type": "code",
   "execution_count": 15,
   "metadata": {
    "colab": {
     "base_uri": "https://localhost:8080/"
    },
    "id": "LOBrVddRnykz",
    "outputId": "214db5dc-5dca-4392-bfa2-019f6da00ca6"
   },
   "outputs": [
    {
     "name": "stdout",
     "output_type": "stream",
     "text": [
      "GPU is available\n"
     ]
    }
   ],
   "source": [
    "is_cuda = torch.cuda.is_available()\n",
    "\n",
    "# If we have a GPU available, we'll set our device to GPU. We'll use this device variable later in our code.\n",
    "if is_cuda:\n",
    "    device = torch.device(\"cuda\")\n",
    "    print(\"GPU is available\")\n",
    "else:\n",
    "    device = torch.device(\"cpu\")\n",
    "    print(\"GPU not available, CPU used\")"
   ]
  },
  {
   "cell_type": "markdown",
   "metadata": {},
   "source": [
    "### Create Model"
   ]
  },
  {
   "cell_type": "code",
   "execution_count": 16,
   "metadata": {},
   "outputs": [],
   "source": [
    "vocabulary_size = len(vocabulary)+1\n",
    "embedding_dim = 64\n",
    "hidden_dim = 256"
   ]
  },
  {
   "cell_type": "code",
   "execution_count": 17,
   "metadata": {
    "colab": {
     "base_uri": "https://localhost:8080/"
    },
    "id": "cySbi94Tmxq6",
    "outputId": "cf6d94c7-d145-4f0e-d057-122af91ca4e9"
   },
   "outputs": [
    {
     "name": "stdout",
     "output_type": "stream",
     "text": [
      "ReviewClassifier(\n",
      "  (embedding): Embedding(45687, 64)\n",
      "  (lstm): LSTM(64, 256, batch_first=True)\n",
      "  (fc): Linear(in_features=256, out_features=1, bias=True)\n",
      "  (sigmoid): Sigmoid()\n",
      ")\n"
     ]
    }
   ],
   "source": [
    "model = ReviewClassifier(vocabulary_size, embedding_dim, hidden_dim)\n",
    "model.to(device)\n",
    "\n",
    "print(model)"
   ]
  },
  {
   "cell_type": "markdown",
   "metadata": {
    "id": "nrlQFQUbLuLt"
   },
   "source": [
    "# Training"
   ]
  },
  {
   "cell_type": "markdown",
   "metadata": {
    "id": "S9s05iIdLbG0"
   },
   "source": [
    "### Pretraining Guess on Test Example"
   ]
  },
  {
   "cell_type": "code",
   "execution_count": 18,
   "metadata": {
    "colab": {
     "base_uri": "https://localhost:8080/"
    },
    "id": "LswqGoKOLb3h",
    "outputId": "0e7bb5d6-fcbf-43f8-ac18-5512b6490a8d"
   },
   "outputs": [
    {
     "name": "stdout",
     "output_type": "stream",
     "text": [
      "Score: 0.5145085453987122\n",
      "1\n"
     ]
    }
   ],
   "source": [
    "with torch.no_grad():\n",
    "    inputs = torch.from_numpy(Xtest_padded[35]).reshape(1,250).to(device)\n",
    "    h= model.init_hidden(1)\n",
    "    h = tuple([each.data for each in h])\n",
    "    score, hidden = model(inputs, h)\n",
    "    print(\"Score:\", score.item())\n",
    "    print(ytest[35])"
   ]
  },
  {
   "cell_type": "markdown",
   "metadata": {
    "id": "kiuKnDzzLo9R"
   },
   "source": [
    "### Set Hyper Parameters"
   ]
  },
  {
   "cell_type": "code",
   "execution_count": 19,
   "metadata": {
    "id": "APlho5uKagLS"
   },
   "outputs": [],
   "source": [
    "optimizer = torch.optim.SGD(model.parameters(),lr=0.1)\n",
    "criterion = nn.BCELoss()\n",
    "\n",
    "def acc(pred, label):\n",
    "    pred = torch.round(pred.squeeze())\n",
    "    return torch.sum(pred == label.squeeze()).item()"
   ]
  },
  {
   "cell_type": "markdown",
   "metadata": {
    "id": "n6wJKsXKLrrQ"
   },
   "source": [
    "### Train Model"
   ]
  },
  {
   "cell_type": "code",
   "execution_count": 20,
   "metadata": {},
   "outputs": [],
   "source": [
    "clip = 5\n",
    "epochs = 25\n",
    "valid_loss_min = np.Inf\n",
    "valid_accuracy_max = np.NINF\n",
    "training_loss, validation_loss, training_acc, valid_acc = [], [], [], []"
   ]
  },
  {
   "cell_type": "code",
   "execution_count": 21,
   "metadata": {
    "colab": {
     "base_uri": "https://localhost:8080/"
    },
    "id": "9_AHFyZKmxq7",
    "outputId": "cdd5a2a4-8044-4569-87ff-62f4696b64ed",
    "scrolled": false
   },
   "outputs": [
    {
     "name": "stdout",
     "output_type": "stream",
     "text": [
      "Epoch 1\n",
      "train_loss : 0.6840420587081708 val_loss : 0.6714030414346664\n",
      "train_accuracy : 56.23067727441362 val_accuracy : 59.176354192431354\n",
      "Validation loss decreased (inf --> 0.67140).  Saving model ...\n",
      "Validation accuracy increased (-inf --> 0.59176).  Saving model ...\n",
      "==================================================\n",
      "Epoch 2\n",
      "train_loss : 0.6418747110857498 val_loss : 0.6172961800817459\n",
      "train_accuracy : 63.41151737499485 val_accuracy : 65.58248825129854\n",
      "Validation loss decreased (0.67140 --> 0.61730).  Saving model ...\n",
      "Validation accuracy increased (0.59176 --> 0.65582).  Saving model ...\n",
      "==================================================\n",
      "Epoch 3\n",
      "train_loss : 0.5645650821814122 val_loss : 0.5372031508457094\n",
      "train_accuracy : 70.6995341934952 val_accuracy : 72.0875587435073\n",
      "Validation loss decreased (0.61730 --> 0.53720).  Saving model ...\n",
      "Validation accuracy increased (0.65582 --> 0.72088).  Saving model ...\n",
      "==================================================\n",
      "Epoch 4\n",
      "train_loss : 0.49572952929147 val_loss : 0.47308407558335197\n",
      "train_accuracy : 75.7409621171524 val_accuracy : 75.89661142715805\n",
      "Validation loss decreased (0.53720 --> 0.47308).  Saving model ...\n",
      "Validation accuracy increased (0.72088 --> 0.75897).  Saving model ...\n",
      "==================================================\n",
      "Epoch 5\n",
      "train_loss : 0.42860447959409226 val_loss : 0.4096162137058046\n",
      "train_accuracy : 80.26299517704769 val_accuracy : 81.37521642344794\n",
      "Validation loss decreased (0.47308 --> 0.40962).  Saving model ...\n",
      "Validation accuracy increased (0.75897 --> 0.81375).  Saving model ...\n",
      "==================================================\n",
      "Epoch 6\n",
      "train_loss : 0.36924926036266037 val_loss : 0.36129315067378304\n",
      "train_accuracy : 83.91937013067316 val_accuracy : 83.26737571110561\n",
      "Validation loss decreased (0.40962 --> 0.36129).  Saving model ...\n",
      "Validation accuracy increased (0.81375 --> 0.83267).  Saving model ...\n",
      "==================================================\n",
      "Epoch 7\n",
      "train_loss : 0.3316651054689941 val_loss : 0.34292861440825084\n",
      "train_accuracy : 85.82794014592523 val_accuracy : 84.08360128617363\n",
      "Validation loss decreased (0.36129 --> 0.34293).  Saving model ...\n",
      "Validation accuracy increased (0.83267 --> 0.84084).  Saving model ...\n",
      "==================================================\n",
      "Epoch 8\n",
      "train_loss : 0.29359891295118506 val_loss : 0.32205363859732944\n",
      "train_accuracy : 87.62933344325818 val_accuracy : 86.08706406134058\n",
      "Validation loss decreased (0.34293 --> 0.32205).  Saving model ...\n",
      "Validation accuracy increased (0.84084 --> 0.86087).  Saving model ...\n",
      "==================================================\n",
      "Epoch 9\n",
      "train_loss : 0.2740610430415199 val_loss : 0.3129890707750169\n",
      "train_accuracy : 88.57331299723813 val_accuracy : 86.5322780113777\n",
      "Validation loss decreased (0.32205 --> 0.31299).  Saving model ...\n",
      "Validation accuracy increased (0.86087 --> 0.86532).  Saving model ...\n",
      "==================================================\n",
      "Epoch 10\n",
      "train_loss : 0.25824781564263366 val_loss : 0.3163416011938973\n",
      "train_accuracy : 89.45958201080012 val_accuracy : 85.988127627999\n",
      "==================================================\n",
      "Epoch 11\n",
      "train_loss : 0.23453177539213982 val_loss : 0.2769425934742367\n",
      "train_accuracy : 90.28401830248568 val_accuracy : 87.7937175364828\n",
      "Validation loss decreased (0.31299 --> 0.27694).  Saving model ...\n",
      "Validation accuracy increased (0.86532 --> 0.87794).  Saving model ...\n",
      "==================================================\n",
      "Epoch 12\n",
      "train_loss : 0.219110006451764 val_loss : 0.2847597875765392\n",
      "train_accuracy : 91.02601096500268 val_accuracy : 87.89265396982438\n",
      "Validation accuracy increased (0.87794 --> 0.87893).  Saving model ...\n",
      "==================================================\n",
      "Epoch 13\n",
      "train_loss : 0.19780581707926098 val_loss : 0.29883718254074215\n",
      "train_accuracy : 91.97411270044107 val_accuracy : 87.32376947811031\n",
      "==================================================\n",
      "Epoch 14\n",
      "train_loss : 0.18631902881615395 val_loss : 0.26846937580950675\n",
      "train_accuracy : 92.35747557607485 val_accuracy : 88.93148651991095\n",
      "Validation loss decreased (0.27694 --> 0.26847).  Saving model ...\n",
      "Validation accuracy increased (0.87893 --> 0.88931).  Saving model ...\n",
      "==================================================\n",
      "Epoch 15\n",
      "train_loss : 0.1787468381914111 val_loss : 0.26832564027299954\n",
      "train_accuracy : 92.86038171400305 val_accuracy : 89.04279000742024\n",
      "Validation loss decreased (0.26847 --> 0.26833).  Saving model ...\n",
      "Validation accuracy increased (0.88931 --> 0.89043).  Saving model ...\n",
      "==================================================\n",
      "Epoch 16\n",
      "train_loss : 0.17226048349587145 val_loss : 0.2735434661781977\n",
      "train_accuracy : 93.26435549692897 val_accuracy : 88.85728419490478\n",
      "==================================================\n",
      "Epoch 17\n",
      "train_loss : 0.15588085374998858 val_loss : 0.2641223544875781\n",
      "train_accuracy : 93.8744383527763 val_accuracy : 89.5869403907989\n",
      "Validation loss decreased (0.26833 --> 0.26412).  Saving model ...\n",
      "Validation accuracy increased (0.89043 --> 0.89587).  Saving model ...\n",
      "==================================================\n",
      "Epoch 18\n",
      "train_loss : 0.13883096882016804 val_loss : 0.2763535397511626\n",
      "train_accuracy : 94.45566593841461 val_accuracy : 89.09225822409103\n",
      "==================================================\n",
      "Epoch 19\n",
      "train_loss : 0.12578933680120433 val_loss : 0.2910531125962734\n",
      "train_accuracy : 95.17292551218105 val_accuracy : 88.80781597823399\n",
      "==================================================\n",
      "Epoch 20\n",
      "train_loss : 0.12698511125662396 val_loss : 0.2907107015923848\n",
      "train_accuracy : 95.13170369759678 val_accuracy : 88.57284194904773\n",
      "==================================================\n",
      "Epoch 21\n",
      "train_loss : 0.1210127996777167 val_loss : 0.28782217624405076\n",
      "train_accuracy : 95.5068222103137 val_accuracy : 89.57457333663122\n",
      "==================================================\n",
      "Epoch 22\n",
      "train_loss : 0.10288153396609748 val_loss : 0.29910821473551175\n",
      "train_accuracy : 96.19522651387115 val_accuracy : 89.51273806579273\n",
      "==================================================\n",
      "Epoch 23\n",
      "train_loss : 0.09384469181240233 val_loss : 0.2890611755706015\n",
      "train_accuracy : 96.46316830866894 val_accuracy : 89.73534504081128\n",
      "Validation accuracy increased (0.89587 --> 0.89735).  Saving model ...\n",
      "==================================================\n",
      "Epoch 24\n",
      "train_loss : 0.09342339742525743 val_loss : 0.29065755583227626\n",
      "train_accuracy : 96.61568902263078 val_accuracy : 89.89611674499133\n",
      "Validation accuracy increased (0.89735 --> 0.89896).  Saving model ...\n",
      "==================================================\n",
      "Epoch 25\n",
      "train_loss : 0.08019115138887416 val_loss : 0.320228275355129\n",
      "train_accuracy : 97.06912898305784 val_accuracy : 89.215928765768\n",
      "==================================================\n"
     ]
    }
   ],
   "source": [
    "for i in range(epochs):\n",
    "    train_losses = []\n",
    "    train_acc = 0.0\n",
    "    model.train()\n",
    "    h = model.init_hidden(BATCH_SIZE)\n",
    "\n",
    "    for inputs, labels in train_loader:\n",
    "        inputs, labels = inputs.to(device), labels.to(device)\n",
    "\n",
    "        h = tuple([each.data for each in h])\n",
    "        model.zero_grad()\n",
    "        output, h = model(inputs, h)\n",
    "        #calculate loss\n",
    "        loss = criterion(output.squeeze(),labels.float())\n",
    "        loss.backward()\n",
    "\n",
    "        train_losses.append(loss.item())\n",
    "\n",
    "        #accuracy\n",
    "        train_acc += acc(output, labels)\n",
    "\n",
    "        # prevent exploding gradient\n",
    "        nn.utils.clip_grad_norm_(model.parameters(), clip)\n",
    "        optimizer.step()\n",
    "        \n",
    "    val_h = model.init_hidden(BATCH_SIZE)\n",
    "    val_losses = []\n",
    "    val_acc = 0.0\n",
    "    model.eval()\n",
    "    for inputs, labels in validation_loader:\n",
    "        val_h = tuple([each.data for each in val_h])\n",
    "\n",
    "        inputs, labels = inputs.to(device), labels.to(device)\n",
    "\n",
    "        output, val_h = model(inputs, val_h)\n",
    "        val_loss = criterion(output.squeeze(), labels.float())\n",
    "\n",
    "        val_losses.append(val_loss.item())\n",
    "\n",
    "        accuracy = acc(output,labels)\n",
    "        val_acc += accuracy\n",
    "    # Calculate average loss and the accuracies\n",
    "    epoch_train_loss = np.mean(train_losses)\n",
    "    epoch_val_loss = np.mean(val_losses)\n",
    "    epoch_train_acc = train_acc/len(train_loader.dataset)\n",
    "    epoch_val_acc = val_acc/len(validation_loader.dataset)\n",
    "\n",
    "    training_loss.append(epoch_train_loss)\n",
    "    validation_loss.append(epoch_val_loss)\n",
    "    training_acc.append(epoch_train_acc)\n",
    "    valid_acc.append(epoch_val_acc)\n",
    "    print(f'Epoch {i+1}') \n",
    "    print(f'train_loss : {epoch_train_loss} val_loss : {epoch_val_loss}')\n",
    "    print(f'train_accuracy : {epoch_train_acc*100} val_accuracy : {epoch_val_acc*100}')\n",
    "    \n",
    "    # Model Presenting Lowest Loss\n",
    "    if epoch_val_loss <= valid_loss_min:\n",
    "        torch.save(model.state_dict(), 'best_loss_OSF_state_dict.pt')\n",
    "        print('Validation loss decreased ({:.5f} --> {:.5f}).  Saving model ...'.format(valid_loss_min,epoch_val_loss))\n",
    "        valid_loss_min = epoch_val_loss\n",
    "    # Model Presenting Highest Accuracy\n",
    "    if epoch_val_acc >= valid_accuracy_max:\n",
    "        torch.save(model.state_dict(), 'best_acc_OSF_state_dict.pt')\n",
    "        print('Validation accuracy increased ({:.5f} --> {:.5f}).  Saving model ...'.format(valid_accuracy_max,epoch_val_acc))\n",
    "        valid_accuracy_max = epoch_val_acc\n",
    "    print(25*'==')\n"
   ]
  },
  {
   "cell_type": "markdown",
   "metadata": {
    "id": "wO-HiMeTLhmA"
   },
   "source": [
    "### Post-Training Guess on Example"
   ]
  },
  {
   "cell_type": "code",
   "execution_count": 22,
   "metadata": {
    "colab": {
     "base_uri": "https://localhost:8080/"
    },
    "id": "h151fAx-p_cN",
    "outputId": "d6e94e3e-fcc8-4fff-cca9-ae69b64fdc2f"
   },
   "outputs": [
    {
     "name": "stdout",
     "output_type": "stream",
     "text": [
      "Score: 0.26561954617500305\n",
      "True Answer:  1\n"
     ]
    }
   ],
   "source": [
    "with torch.no_grad():\n",
    "    inputs = torch.from_numpy(Xtest_padded[35]).reshape(1,250).to(device)\n",
    "    h= model.init_hidden(1)\n",
    "    h = tuple([each.data for each in h])\n",
    "    score, hidden = model(inputs, h)\n",
    "    print(\"Score:\", score.item())\n",
    "    print(\"True Answer: \", ytest[35])"
   ]
  },
  {
   "cell_type": "code",
   "execution_count": 23,
   "metadata": {
    "colab": {
     "base_uri": "https://localhost:8080/",
     "height": 390
    },
    "id": "wtTQH8ilY-be",
    "outputId": "cfd5c0bc-6101-4fca-ef91-769b0861889a"
   },
   "outputs": [
    {
     "data": {
      "image/png": "[encoded data removed]",
      "text/plain": [
       "<Figure size 2000x600 with 2 Axes>"
      ]
     },
     "metadata": {},
     "output_type": "display_data"
    }
   ],
   "source": [
    "fig = plt.figure(figsize = (20, 6))\n",
    "plt.subplot(1, 2, 1)\n",
    "plt.plot(training_acc, label='Train Acc')\n",
    "plt.plot(valid_acc, label='Validation Acc')\n",
    "plt.title(\"Accuracy\")\n",
    "plt.legend()\n",
    "plt.grid()\n",
    "    \n",
    "plt.subplot(1, 2, 2)\n",
    "plt.plot(training_loss, label='Train loss')\n",
    "plt.plot(validation_loss, label='Validation loss')\n",
    "plt.title(\"Loss\")\n",
    "plt.legend()\n",
    "plt.grid()\n",
    "\n",
    "plt.show()"
   ]
  },
  {
   "cell_type": "markdown",
   "metadata": {},
   "source": [
    "### Calculate on Test and Display Confusion"
   ]
  },
  {
   "cell_type": "code",
   "execution_count": 24,
   "metadata": {},
   "outputs": [],
   "source": [
    "def return_misses(inputs, output, labels, vocab):\n",
    "    pred = torch.round(output.squeeze())\n",
    "    labels = labels.squeeze()\n",
    "    misses = []\n",
    "    false_negative = 0\n",
    "    false_positive = 0\n",
    "    for i in range(len(pred)):\n",
    "        if pred[i] != labels[i]:\n",
    "            if pred[i] == 0:\n",
    "                false_positive += 1\n",
    "            else:\n",
    "                false_negative += 1\n",
    "        misses.append(' '.join([vocab[inputs[i][j].item()] for j in range(len(inputs[i])) if inputs[i][j].item() != 0]))\n",
    "    return misses, false_negative, false_positive\n",
    "\n",
    "def do_test_stats():\n",
    "    test_h = model.init_hidden(32)\n",
    "    test_losses = []\n",
    "    test_acc = 0.0\n",
    "    tot_misses = []\n",
    "    model.eval()\n",
    "    vocab_r = {v: k for k, v in vocabulary.items()}\n",
    "    false_positives = 0\n",
    "    false_negatives = 0\n",
    "    tot_outputs = 0\n",
    "    tot_labels = 0\n",
    "\n",
    "    test_loader = torch.utils.data.DataLoader(test_data, shuffle=True, batch_size=32, drop_last=True)\n",
    "    with torch.no_grad():\n",
    "        for inputs, labels in test_loader:\n",
    "            test_h = tuple([each.data for each in test_h])\n",
    "\n",
    "            inputs, labels = inputs.to(device), labels.to(device)\n",
    "\n",
    "            output, test_h = model(inputs, test_h)\n",
    "            test_loss = criterion(output.squeeze(), labels.float())\n",
    "\n",
    "            test_losses.append(test_loss.item())\n",
    "            misses, fneg, fpos = return_misses(inputs, output, labels, vocab_r)\n",
    "            tot_misses.extend(misses)\n",
    "            false_positives += fpos\n",
    "            false_negatives += fneg\n",
    "            accuracy = acc(output,labels)\n",
    "            test_acc += accuracy\n",
    "\n",
    "            tot_outputs = output if type(tot_outputs) == type(0) else torch.cat((tot_outputs, output))\n",
    "            tot_labels = labels if type(tot_labels) == type(0) else torch.cat((tot_labels, labels))\n",
    "\n",
    "    test_loss = np.mean(test_losses)\n",
    "    test_acc = test_acc/len(test_loader.dataset)\n",
    "    print(f'test_loss : {test_loss}')\n",
    "    print(f'test_accuracy : {test_acc*100}')\n",
    "    print(f'false_positive : {false_positives / len(test_loader.dataset)} ')\n",
    "    print(f'false_negatives : {false_negatives / len(test_loader.dataset)} ')\n",
    "    return tot_outputs, tot_labels\n",
    "    \n",
    "def display_confusion_matrix(tot_outputs, tot_labels):\n",
    "    cm = confusion_matrix(tot_labels.cpu().data.numpy(), torch.round(tot_outputs.squeeze()).cpu().data.numpy())\n",
    "    disp = ConfusionMatrixDisplay(confusion_matrix=cm)\n",
    "    disp.plot()\n",
    "    plt.show()"
   ]
  },
  {
   "cell_type": "code",
   "execution_count": 25,
   "metadata": {},
   "outputs": [
    {
     "name": "stdout",
     "output_type": "stream",
     "text": [
      "test_loss : 0.3097567167280922\n",
      "test_accuracy : 89.4893038209472\n",
      "false_positive : 0.06256955607765549 \n",
      "false_negatives : 0.03969333498206999 \n"
     ]
    }
   ],
   "source": [
    "tot_outputs, tot_labels = do_test_stats()"
   ]
  },
  {
   "cell_type": "code",
   "execution_count": 26,
   "metadata": {},
   "outputs": [
    {
     "data": {
      "image/png": "[encoded data removed]",
      "text/plain": [
       "<Figure size 640x480 with 2 Axes>"
      ]
     },
     "metadata": {},
     "output_type": "display_data"
    }
   ],
   "source": [
    "display_confusion_matrix(tot_outputs, tot_labels)"
   ]
  },
  {
   "cell_type": "code",
   "execution_count": 27,
   "metadata": {},
   "outputs": [],
   "source": [
    "# Save final model\n",
    "torch.save(model.state_dict(), 'post_training_OSF_state_dict.pt')"
   ]
  },
  {
   "cell_type": "markdown",
   "metadata": {},
   "source": [
    "### Save onehot dictionary"
   ]
  },
  {
   "cell_type": "code",
   "execution_count": 32,
   "metadata": {},
   "outputs": [],
   "source": [
    "import pickle\n",
    "with open(\"osf_onehot.pkl\", \"wb\") as file:\n",
    "    pickle.dump(vocabulary, file)"
   ]
  },
  {
   "cell_type": "markdown",
   "metadata": {},
   "source": [
    "## Best Accuracy Model"
   ]
  },
  {
   "cell_type": "markdown",
   "metadata": {
    "id": "zRD4Byz3LNC3"
   },
   "source": [
    "### Evaluate Best Accuracy Model on Test Data"
   ]
  },
  {
   "cell_type": "code",
   "execution_count": 33,
   "metadata": {},
   "outputs": [
    {
     "data": {
      "text/plain": [
       "ReviewClassifier(\n",
       "  (embedding): Embedding(45687, 64)\n",
       "  (lstm): LSTM(64, 256, batch_first=True)\n",
       "  (fc): Linear(in_features=256, out_features=1, bias=True)\n",
       "  (sigmoid): Sigmoid()\n",
       ")"
      ]
     },
     "execution_count": 33,
     "metadata": {},
     "output_type": "execute_result"
    }
   ],
   "source": [
    "model = ReviewClassifier(vocabulary_size, embedding_dim, hidden_dim)\n",
    "model.load_state_dict(torch.load(\"best_acc_OSF_state_dict.pt\"))\n",
    "model.to(device)\n",
    "model.eval()"
   ]
  },
  {
   "cell_type": "code",
   "execution_count": 34,
   "metadata": {
    "colab": {
     "base_uri": "https://localhost:8080/"
    },
    "id": "3gipsbVTZHk5",
    "outputId": "1536bdbd-1568-4bd1-b088-4978c37730e6",
    "scrolled": true
   },
   "outputs": [
    {
     "name": "stdout",
     "output_type": "stream",
     "text": [
      "test_loss : 0.28498644495959435\n",
      "test_accuracy : 89.62532459502906\n",
      "false_positive : 0.044515889699517745 \n",
      "false_negatives : 0.05638679361938914 \n"
     ]
    }
   ],
   "source": [
    "tot_outputs, tot_labels = do_test_stats()"
   ]
  },
  {
   "cell_type": "markdown",
   "metadata": {
    "id": "ZHkK0pacLRCs"
   },
   "source": [
    "### Display Confusion Matrix"
   ]
  },
  {
   "cell_type": "code",
   "execution_count": 35,
   "metadata": {
    "colab": {
     "base_uri": "https://localhost:8080/",
     "height": 279
    },
    "id": "cBIT6PyWZVhH",
    "outputId": "30eddf4c-05f4-47b6-fb10-444d7faaa09f"
   },
   "outputs": [
    {
     "data": {
      "image/png": "[encoded data removed]",
      "text/plain": [
       "<Figure size 640x480 with 2 Axes>"
      ]
     },
     "metadata": {},
     "output_type": "display_data"
    }
   ],
   "source": [
    "display_confusion_matrix(tot_outputs, tot_labels)"
   ]
  },
  {
   "cell_type": "markdown",
   "metadata": {},
   "source": [
    "## Best Loss Model"
   ]
  },
  {
   "cell_type": "markdown",
   "metadata": {
    "id": "zRD4Byz3LNC3"
   },
   "source": [
    "### Evaluate Best Loss Model on Test Data"
   ]
  },
  {
   "cell_type": "code",
   "execution_count": 36,
   "metadata": {},
   "outputs": [
    {
     "data": {
      "text/plain": [
       "ReviewClassifier(\n",
       "  (embedding): Embedding(45687, 64)\n",
       "  (lstm): LSTM(64, 256, batch_first=True)\n",
       "  (fc): Linear(in_features=256, out_features=1, bias=True)\n",
       "  (sigmoid): Sigmoid()\n",
       ")"
      ]
     },
     "execution_count": 36,
     "metadata": {},
     "output_type": "execute_result"
    }
   ],
   "source": [
    "model = ReviewClassifier(vocabulary_size, embedding_dim, hidden_dim)\n",
    "model.load_state_dict(torch.load(\"best_loss_OSF_state_dict.pt\"))\n",
    "model.to(device)\n",
    "model.eval()"
   ]
  },
  {
   "cell_type": "code",
   "execution_count": 37,
   "metadata": {
    "colab": {
     "base_uri": "https://localhost:8080/"
    },
    "id": "3gipsbVTZHk5",
    "outputId": "1536bdbd-1568-4bd1-b088-4978c37730e6",
    "scrolled": true
   },
   "outputs": [
    {
     "name": "stdout",
     "output_type": "stream",
     "text": [
      "test_loss : 0.25257571984732907\n",
      "test_accuracy : 89.57586249536293\n",
      "false_positive : 0.056757759366885124 \n",
      "false_negatives : 0.04463954494868307 \n"
     ]
    }
   ],
   "source": [
    "tot_outputs, tot_labels = do_test_stats()"
   ]
  },
  {
   "cell_type": "markdown",
   "metadata": {
    "id": "ZHkK0pacLRCs"
   },
   "source": [
    "### Display Confusion Matrix"
   ]
  },
  {
   "cell_type": "code",
   "execution_count": 38,
   "metadata": {
    "colab": {
     "base_uri": "https://localhost:8080/",
     "height": 279
    },
    "id": "cBIT6PyWZVhH",
    "outputId": "30eddf4c-05f4-47b6-fb10-444d7faaa09f"
   },
   "outputs": [
    {
     "data": {
      "image/png": "[encoded data removed]",
      "text/plain": [
       "<Figure size 640x480 with 2 Axes>"
      ]
     },
     "metadata": {},
     "output_type": "display_data"
    }
   ],
   "source": [
    "display_confusion_matrix(tot_outputs, tot_labels)"
   ]
  },
  {
   "cell_type": "code",
   "execution_count": null,
   "metadata": {},
   "outputs": [],
   "source": []
  }
 ],
 "metadata": {
  "accelerator": "GPU",
  "colab": {
   "provenance": []
  },
  "gpuClass": "standard",
  "kernelspec": {
   "display_name": "Python 3 (ipykernel)",
   "language": "python",
   "name": "python3"
  },
  "language_info": {
   "codemirror_mode": {
    "name": "ipython",
    "version": 3
   },
   "file_extension": ".py",
   "mimetype": "text/x-python",
   "name": "python",
   "nbconvert_exporter": "python",
   "pygments_lexer": "ipython3",
   "version": "3.10.0"
  },
  "vscode": {
   "interpreter": {
    "hash": "aee8b7b246df8f9039afb4144a1f6fd8d2ca17a180786b69acc140d282b71a49"
   }
  }
 },
 "nbformat": 4,
 "nbformat_minor": 1
}
